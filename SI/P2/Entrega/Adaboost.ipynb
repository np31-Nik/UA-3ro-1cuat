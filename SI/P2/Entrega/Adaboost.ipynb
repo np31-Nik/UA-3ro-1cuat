{
  "cells": [
    {
      "cell_type": "markdown",
      "metadata": {
        "id": "G1w-sVA-h82d"
      },
      "source": [
        "#**Práctica 2: clasificación de dígitos MNIST mediante AdaBoost**"
      ]
    },
    {
      "cell_type": "markdown",
      "metadata": {
        "id": "d1hbMxmiiHWI"
      },
      "source": [
        "#**1. Introducción**"
      ]
    },
    {
      "cell_type": "markdown",
      "metadata": {
        "id": "12Jm82LuM4D8"
      },
      "source": [
        "Importar librerías"
      ]
    },
    {
      "cell_type": "code",
      "execution_count": 1,
      "metadata": {
        "id": "qPgdzozKxsJi"
      },
      "outputs": [],
      "source": [
        "import numpy as np\n",
        "import matplotlib.pyplot as plt\n",
        "import random\n",
        "import math\n",
        "from keras.datasets import mnist"
      ]
    },
    {
      "cell_type": "markdown",
      "metadata": {
        "id": "fabseaAOf3da"
      },
      "source": [
        "Desde la libería de Keras podemos descargar la base datos MNIST"
      ]
    },
    {
      "cell_type": "code",
      "execution_count": 2,
      "metadata": {
        "colab": {
          "base_uri": "https://localhost:8080/",
          "height": 0
        },
        "id": "ObCTezA8gHOb",
        "outputId": "09131e89-1cc5-4baa-b9fd-91d718bc7f57"
      },
      "outputs": [
        {
          "name": "stdout",
          "output_type": "stream",
          "text": [
            "Downloading data from https://storage.googleapis.com/tensorflow/tf-keras-datasets/mnist.npz\n",
            "11493376/11490434 [==============================] - 0s 0us/step\n",
            "11501568/11490434 [==============================] - 0s 0us/step\n"
          ]
        }
      ],
      "source": [
        "(x_train, y_train), (x_test, y_test) = mnist.load_data()"
      ]
    },
    {
      "cell_type": "code",
      "execution_count": 3,
      "metadata": {
        "colab": {
          "base_uri": "https://localhost:8080/",
          "height": 0
        },
        "id": "c5vspCNFgHyz",
        "outputId": "a655c3c4-1027-4a40-f61b-73db2ce058d5"
      },
      "outputs": [
        {
          "data": {
            "text/plain": [
              "((60000, 28, 28), (60000,))"
            ]
          },
          "execution_count": 3,
          "metadata": {},
          "output_type": "execute_result"
        }
      ],
      "source": [
        "x_train.shape,y_train.shape"
      ]
    },
    {
      "cell_type": "markdown",
      "metadata": {
        "id": "QMWE3hpqgs3c"
      },
      "source": [
        "Guardar base de datos en un fichero"
      ]
    },
    {
      "cell_type": "code",
      "execution_count": 4,
      "metadata": {
        "id": "UwZhUZfpg2bd"
      },
      "outputs": [],
      "source": [
        "np.savez(\"mnist\",x=x_train,y=y_train)"
      ]
    },
    {
      "cell_type": "markdown",
      "metadata": {
        "id": "ZhvNEctdiV2W"
      },
      "source": [
        "Cargar base de datos desde un fichero"
      ]
    },
    {
      "cell_type": "code",
      "execution_count": 5,
      "metadata": {
        "colab": {
          "base_uri": "https://localhost:8080/",
          "height": 0
        },
        "id": "PAHczaleib5u",
        "outputId": "16103288-af1a-4d2e-9621-4f70414d45b0"
      },
      "outputs": [
        {
          "data": {
            "text/plain": [
              "(60000, 28, 28)"
            ]
          },
          "execution_count": 5,
          "metadata": {},
          "output_type": "execute_result"
        }
      ],
      "source": [
        "npzfile = np.load(\"mnist.npz\")\n",
        "mnist_X = npzfile['x']\n",
        "mnist_Y = npzfile['y']\n",
        "mnist_X.shape"
      ]
    },
    {
      "cell_type": "markdown",
      "metadata": {
        "id": "sTGcqWYwgSoJ"
      },
      "source": [
        "Mostrar una imagen de MNIST"
      ]
    },
    {
      "cell_type": "code",
      "execution_count": 6,
      "metadata": {
        "colab": {
          "base_uri": "https://localhost:8080/",
          "height": 282
        },
        "id": "YmnDV3RigY6T",
        "outputId": "0ac99a79-3c5d-40f2-f8b9-da3101e7c88b"
      },
      "outputs": [
        {
          "data": {
            "image/png": "[encoded data removed]",
            "text/plain": [
              "<Figure size 432x288 with 1 Axes>"
            ]
          },
          "metadata": {
            "needs_background": "light"
          },
          "output_type": "display_data"
        },
        {
          "name": "stdout",
          "output_type": "stream",
          "text": [
            "Etiqueta: 1\n"
          ]
        }
      ],
      "source": [
        "plt.figure()\n",
        "plt.imshow(x_train[40])\n",
        "plt.show()\n",
        "print(\"Etiqueta: \" + str(y_train[40]))"
      ]
    },
    {
      "cell_type": "markdown",
      "metadata": {
        "id": "ANntXnhohkHd"
      },
      "source": [
        "#**2. Implementación AdaBoost**"
      ]
    },
    {
      "cell_type": "markdown",
      "metadata": {
        "id": "duQ56XNFKyLT"
      },
      "source": [
        "##**2.1 Adaptar conjuntos y clase**"
      ]
    },
    {
      "cell_type": "markdown",
      "metadata": {
        "id": "-Yt22wELipJT"
      },
      "source": [
        "Adaptación de los arrays de imágenes y etiquetas para AdaBoost:\n",
        "Lo que hacemos es cambiar la forma de la matriz X, para que sea un simple vector de 60000x784, utilizando reshape()"
      ]
    },
    {
      "cell_type": "code",
      "execution_count": 7,
      "metadata": {
        "id": "rNnU_E8dinOz"
      },
      "outputs": [],
      "source": [
        "def adaptar_conjuntos(X, Y):\n",
        "    X = mnist_X.reshape(60000,28*28)\n",
        "    Y = mnist_Y\n",
        "    return (X,Y)\n",
        "(X,Y) = adaptar_conjuntos(mnist_X, mnist_Y)"
      ]
    },
    {
      "cell_type": "markdown",
      "metadata": {
        "id": "CNIC4krxvztE"
      },
      "source": [
        "Funcion para especificar la clase que utilizaremos:\n",
        "En este caso modificamos el vector Y, para que en caso de que el valor de Y[i] corresponda al valor de la clase, este elemento cuente como un '1', en caso contrario sera '-1'"
      ]
    },
    {
      "cell_type": "code",
      "execution_count": 8,
      "metadata": {
        "id": "thA9pWIRvztF"
      },
      "outputs": [],
      "source": [
        "def clase(Y,clase):\n",
        "    Ytemp = list(map(lambda x: 1 if x==clase else -1,Y))\n",
        "    return Ytemp"
      ]
    },
    {
      "cell_type": "markdown",
      "metadata": {
        "id": "cD0WIpqYK9ro"
      },
      "source": [
        "##**2.2 Clasificadores débiles**"
      ]
    },
    {
      "cell_type": "markdown",
      "metadata": {
        "id": "TY5RX87hizst"
      },
      "source": [
        "Funciones necesarias para los clasificadores débiles"
      ]
    },
    {
      "cell_type": "code",
      "execution_count": 9,
      "metadata": {
        "id": "JPzp9OSAi8rj"
      },
      "outputs": [],
      "source": [
        "# Dimensión con la que vamos a trabajar. En nuestro caso 28*28\n",
        "def generar_clasificador_debil(dimension_datos):\n",
        "    pixel = random.randint(0,dimension_datos-1)\n",
        "    umbral = random.randint(0,255) \n",
        "    booleano_dir = random.randint(0,1)\n",
        "\n",
        "    if booleano_dir == 0:\n",
        "        direccion = -1\n",
        "    else:\n",
        "        direccion = 1\n",
        "\n",
        "    return (pixel,umbral,direccion) # Devolvemos el clasificador debil generado"
      ]
    },
    {
      "cell_type": "code",
      "execution_count": 10,
      "metadata": {
        "id": "OZccF64ljbUr"
      },
      "outputs": [],
      "source": [
        "def aplicar_clasificador_debil(clasificador, imagen):\n",
        "    pixel = clasificador[0]\n",
        "    umbral = clasificador[1]\n",
        "    direccion = clasificador[2]\n",
        "\n",
        "    if direccion == 1:\n",
        "        if imagen[pixel] >= umbral:\n",
        "            res = True\n",
        "        else:\n",
        "            res = False\n",
        "    else:\n",
        "        \n",
        "        if imagen[pixel] < umbral:\n",
        "            \n",
        "            res = True\n",
        "        else:\n",
        "            res = False\n",
        "\n",
        "    if res:\n",
        "        res=1\n",
        "    else:\n",
        "        res=-1\n",
        "    return res"
      ]
    },
    {
      "cell_type": "code",
      "execution_count": 11,
      "metadata": {
        "id": "M50DGeNhjgDk"
      },
      "outputs": [],
      "source": [
        "def obtener_error(clasificador, X, Y, D):\n",
        "    error = 0.0\n",
        "\n",
        "    for i in range(len(X)):\n",
        "        if aplicar_clasificador_debil(clasificador,X[i]) == 1:\n",
        "            if Y[i] != 1:\n",
        "                error = error + D[i]\n",
        "        else:\n",
        "            if Y[i] == 1:\n",
        "                error = error + D[i]\n",
        "\n",
        "    return error"
      ]
    },
    {
      "cell_type": "markdown",
      "metadata": {
        "id": "HR7yWnBtLGJR"
      },
      "source": [
        "##**2.3 Clasificador fuerte**"
      ]
    },
    {
      "cell_type": "markdown",
      "metadata": {
        "id": "cotcuFUsjtve"
      },
      "source": [
        "Funcion de entrenamiento para un clasificador fuerte:"
      ]
    },
    {
      "cell_type": "code",
      "execution_count": 12,
      "metadata": {
        "id": "paE5m0hhjwyX"
      },
      "outputs": [],
      "source": [
        "def entrenar(X, Y, T, A):\n",
        "    clasificadores_debiles = []\n",
        "    alfas = []\n",
        "    D = np.full(len(X), 1/len(X))\n",
        "    tam_img = 28*28\n",
        "\n",
        "    for t in range(T):\n",
        "\n",
        "        min_cd=((),2)\n",
        "\n",
        "        for k in range(A):\n",
        "\n",
        "            cd = generar_clasificador_debil(tam_img)\n",
        "            error = obtener_error(cd,X,Y,D)\n",
        "\n",
        "            if error < min_cd[1] or min_cd[1] == 2:\n",
        "                min_cd=(cd,error)\n",
        "\n",
        "        clasificadores_debiles.append(min_cd[0])\n",
        "\n",
        "        if min_cd[1]<=0:\n",
        "            alfa=1/2\n",
        "        else:\n",
        "            alfa = (1/2) * math.log( (1-min_cd[1])/min_cd[1] ,2)\n",
        "\n",
        "\n",
        "        alfas.append(alfa)\n",
        "\n",
        "        Z=np.sum(D)\n",
        "        Dtemp=np.copy(D)\n",
        "\n",
        "        for x in range(len(X)):\n",
        "            cd_d = aplicar_clasificador_debil(min_cd[0],X[x])\n",
        "            Dtemp[x]=D[x]*np.exp(-alfa*Y[x]*cd_d)\n",
        "\n",
        "        D = Dtemp/Z\n",
        "            \n",
        "    return (clasificadores_debiles, alfas)"
      ]
    },
    {
      "cell_type": "markdown",
      "metadata": {
        "id": "EKRxklDcKXpP"
      },
      "source": [
        "Funcion para aplicar un clasificador fuerte a un conjunto de imagenes:"
      ]
    },
    {
      "cell_type": "code",
      "execution_count": 13,
      "metadata": {
        "id": "RfewgGG7vztJ"
      },
      "outputs": [],
      "source": [
        "def aplicarCF(H,X):\n",
        "    res=np.full(len(X),0.0)\n",
        "\n",
        "    for x in range(len(X)):\n",
        "        h=0.0\n",
        "        for i in range(len(H[0])):\n",
        "            cd_res=aplicar_clasificador_debil(H[0][i],X[x])\n",
        "            h += H[1][i]*cd_res\n",
        "        res[x]=h\n",
        "\n",
        "    res = np.sign(res)\n",
        "    res = res.astype(int)\n",
        "    return res"
      ]
    },
    {
      "cell_type": "markdown",
      "metadata": {
        "id": "sHyBl9IXOSQL"
      },
      "source": [
        "#**3.Análisis y resultados de las pruebas realizadas**"
      ]
    },
    {
      "cell_type": "markdown",
      "metadata": {
        "id": "OVJv5NoJLXaP"
      },
      "source": [
        "##**3.1 Pruebas**"
      ]
    },
    {
      "cell_type": "markdown",
      "metadata": {
        "id": "QWNs30QAKXpP"
      },
      "source": [
        "Las siguientes 2 funciones se utilizan para obtener tanto el numero de aciertos como el porcentaje de aciertos."
      ]
    },
    {
      "cell_type": "code",
      "execution_count": 14,
      "metadata": {
        "id": "YTwITRpMvztK"
      },
      "outputs": [],
      "source": [
        "def comparar(res,Y):\n",
        "    aciertos=0\n",
        "    for y in range(len(Y)):\n",
        "        if res[y]==Y[y]:\n",
        "            aciertos+=1\n",
        "\n",
        "    return round(aciertos/len(Y)*100,2)"
      ]
    },
    {
      "cell_type": "code",
      "execution_count": 15,
      "metadata": {
        "id": "8jhC6qIRvztM"
      },
      "outputs": [],
      "source": [
        "def resultados(cf_img,Y,tam_muestra):\n",
        "    aciertos = 0\n",
        "    aciertosC = np.full(10,0)\n",
        "    fallos = 0\n",
        "    fallosC = np.full(10,0)\n",
        "    countC= np.full(10,0)\n",
        "\n",
        "    for i in range(tam_muestra):\n",
        "        for j in range(10):\n",
        "            if cf_img[i][j] == Y[j][i]:\n",
        "                aciertos+=1\n",
        "                aciertosC[j]+=1\n",
        "            else:\n",
        "                fallos+=1\n",
        "                fallosC[j]+=1\n",
        "\n",
        "            if Y[j][i]==1:\n",
        "                countC[j]+=1\n",
        "\n",
        "    for j in range(10):\n",
        "        print('Clase:',j,' Aciertos:',aciertosC[j],' Fallos:',fallosC[j],' img(',j,'):',countC[j],' Porcentaje de aciertos:',round(aciertosC[j]/tam_muestra*100,2),'%','Porcentaje de fallos:',round(fallosC[j]/tam_muestra*100,2))\n",
        "    print('Imagenes = ',tam_muestra,' | A = ',A,' | T = ',T,' | Porcentaje de aciertos(Total) = ',round(aciertos/(tam_muestra*10)*100,2),'%','Porcentaje de fallos(Total) = ',round(fallos/(tam_muestra*10)*100,2),'%')"
      ]
    },
    {
      "cell_type": "markdown",
      "metadata": {
        "id": "I0j-IsihKXpQ"
      },
      "source": [
        "Para dividir el conjunto de entrenamiento y test, lo que se ha hecho es utilizar 'tam_muestra' como numero de imagenes para entrenar, el cual se define mas adelante, y luego para las imagenes de prueba se utiliza las siguientes 6000 imagenes del vector de imagenes. Para la prueba se deben utilizar imagenes diferentes que del conjunto de entrenamiento, para poder verificar que se ha logrado entrenar el algoritmo."
      ]
    },
    {
      "cell_type": "markdown",
      "metadata": {
        "id": "igQup0uwKXpQ"
      },
      "source": [
        "Para utilizar el conjunto de prueba tenemos la siguiente funcion:\n"
      ]
    },
    {
      "cell_type": "code",
      "execution_count": 16,
      "metadata": {
        "id": "H7Cq7FfFKXpQ"
      },
      "outputs": [],
      "source": [
        "def pruebas(Hlista,Y,tam_muestra):\n",
        "    tam_prueba = 6000\n",
        "    muestra_desde = tam_muestra\n",
        "    muestra_hasta = tam_muestra + tam_prueba\n",
        "    Yclases = []\n",
        "    cf_img = np.full((tam_prueba,10),[0])\n",
        "    Yr = Y[muestra_desde:muestra_hasta]\n",
        "    aciertoTot=0.0\n",
        "    print('\\nResultados de TEST para: |',muestra_desde,' - ',muestra_hasta,'|:')\n",
        "\n",
        "    for c in range(10):\n",
        "        Yclase = clase(Yr,c)\n",
        "        Yclases.append(Yclase)\n",
        "        Xtest = X[muestra_desde:muestra_hasta]\n",
        "        resTest = aplicarCF(Hlista[c],Xtest)\n",
        "        for i in range(tam_muestra):\n",
        "            cf_img[i][c] = resTest[i]\n",
        "\n",
        "    resultados(cf_img,Yclases,tam_prueba)"
      ]
    },
    {
      "cell_type": "markdown",
      "metadata": {
        "id": "rrw7hQdoKXpQ"
      },
      "source": [
        "A continuacion se encuentra el codigo principal, donde declaramos nuestros parametros T,A, y el tam_muestra (cantidad de imagenes a utilizar para entrenar y por prueba), ademas en esta parte del codigo llamamos al entrenamiento para cada clase(0-9), y guardamos los clasificadores fuertes(H) en una lista (Hlista)"
      ]
    },
    {
      "cell_type": "markdown",
      "metadata": {
        "id": "hFXuiAUCKXpR"
      },
      "source": [
        "Para poder clasificar una imagen entre los 10 posibles digitos lo que se ha hecho es crear una lista donde se guardan los 10 clasificadores fuertes (Hlista), donde cada clasificador es para un digito en concreto, luego a esa imagen se le aplica cada clasificador, y se guardan los resultados en una matriz de resultados (cf_img), de tamaño tam_muestra*10, es decir obtendremos el resultado de aplicar cada clasificador a cada imagen, y ese resultado se guarda en un vector de tamaño 10, el cual se guarda en una matriz de tamaño tam_muestra (cf_img)."
      ]
    },
    {
      "cell_type": "code",
      "execution_count": 17,
      "metadata": {
        "colab": {
          "base_uri": "https://localhost:8080/",
          "height": 0
        },
        "id": "e5eAUu_rOaR1",
        "outputId": "7e625af8-8145-4b01-8769-7d617de8ce7b"
      },
      "outputs": [
        {
          "name": "stdout",
          "output_type": "stream",
          "text": [
            "clase:  0  (T: 1  A: 1 ) resultados train[ 3000 ]:  90.5 %\n",
            "clase:  1  (T: 1  A: 1 ) resultados train[ 3000 ]:  70.27 %\n",
            "clase:  2  (T: 1  A: 1 ) resultados train[ 3000 ]:  90.03 %\n",
            "clase:  3  (T: 1  A: 1 ) resultados train[ 3000 ]:  90.17 %\n",
            "clase:  4  (T: 1  A: 1 ) resultados train[ 3000 ]:  89.13 %\n",
            "clase:  5  (T: 1  A: 1 ) resultados train[ 3000 ]:  90.23 %\n",
            "clase:  6  (T: 1  A: 1 ) resultados train[ 3000 ]:  89.27 %\n",
            "clase:  7  (T: 1  A: 1 ) resultados train[ 3000 ]:  89.03 %\n",
            "clase:  8  (T: 1  A: 1 ) resultados train[ 3000 ]:  91.3 %\n",
            "clase:  9  (T: 1  A: 1 ) resultados train[ 3000 ]:  85.03 %\n",
            "\n",
            "Resultados de TEST para: | 3000  -  9000 |:\n",
            "Clase: 0  Aciertos: 2693  Fallos: 3307  img( 0 ): 606  Porcentaje de aciertos: 44.88 % Porcentaje de fallos: 55.12\n",
            "Clase: 1  Aciertos: 2136  Fallos: 3864  img( 1 ): 684  Porcentaje de aciertos: 35.6 % Porcentaje de fallos: 64.4\n",
            "Clase: 2  Aciertos: 2718  Fallos: 3282  img( 2 ): 590  Porcentaje de aciertos: 45.3 % Porcentaje de fallos: 54.7\n",
            "Clase: 3  Aciertos: 2682  Fallos: 3318  img( 3 ): 627  Porcentaje de aciertos: 44.7 % Porcentaje de fallos: 55.3\n",
            "Clase: 4  Aciertos: 2702  Fallos: 3298  img( 4 ): 574  Porcentaje de aciertos: 45.03 % Porcentaje de fallos: 54.97\n",
            "Clase: 5  Aciertos: 2738  Fallos: 3262  img( 5 ): 500  Porcentaje de aciertos: 45.63 % Porcentaje de fallos: 54.37\n",
            "Clase: 6  Aciertos: 2660  Fallos: 3340  img( 6 ): 602  Porcentaje de aciertos: 44.33 % Porcentaje de fallos: 55.67\n",
            "Clase: 7  Aciertos: 2678  Fallos: 3322  img( 7 ): 632  Porcentaje de aciertos: 44.63 % Porcentaje de fallos: 55.37\n",
            "Clase: 8  Aciertos: 2710  Fallos: 3290  img( 8 ): 585  Porcentaje de aciertos: 45.17 % Porcentaje de fallos: 54.83\n",
            "Clase: 9  Aciertos: 2521  Fallos: 3479  img( 9 ): 600  Porcentaje de aciertos: 42.02 % Porcentaje de fallos: 57.98\n",
            "Imagenes =  6000  | A =  1  | T =  1  | Porcentaje de aciertos(Total) =  43.73 % Porcentaje de fallos(Total) =  56.27 %\n"
          ]
        }
      ],
      "source": [
        "## Change these to change the execution time\n",
        "T = 1 # Num of cd (weak classifiers)\n",
        "A = 1 # Num of random tests for each cd\n",
        "tam_muestra=3000 # Num of sample images\n",
        "\n",
        "cf_img = np.full((tam_muestra,10),[0])\n",
        "Hlista = []\n",
        "Yclases = []\n",
        "for c in range(10):\n",
        "    Yclase = clase(Y,c)\n",
        "    Yclases.append(Yclase)\n",
        "    Xtrain=X[:tam_muestra]\n",
        "    Ytrain=Yclase[:tam_muestra]\n",
        "\n",
        "    H = entrenar(Xtrain, Ytrain, T, A)\n",
        "    Hlista.append(H)\n",
        "    res = aplicarCF(H,Xtrain)\n",
        "\n",
        "    for i in range(tam_muestra):\n",
        "        cf_img[i][c] = res[i]\n",
        "\n",
        "    porcentajeEntrenamiento = comparar(res,Ytrain)\n",
        "\n",
        "    print('clase: ',c,' (T:',T,' A:',A,') resultados train[',tam_muestra,']: ',porcentajeEntrenamiento,'%')\n",
        "\n",
        "pruebas(Hlista,Y,tam_muestra)\n",
        "\n"
      ]
    },
    {
      "cell_type": "markdown",
      "metadata": {
        "id": "hKJ2N6VyLa1b"
      },
      "source": [
        "##**3.2 Resultados**"
      ]
    },
    {
      "cell_type": "markdown",
      "metadata": {
        "id": "bFPNFUAcLeZd"
      },
      "source": [
        "###**3.2.1 Resultados de entrenamiento**"
      ]
    },
    {
      "cell_type": "markdown",
      "metadata": {
        "id": "Xz_g3ECYvztL"
      },
      "source": [
        "Y a continuacion obtendremos graficas comparativas a partir de resultados obtenidos en ejecuciones anteriores, se ha decidido solamente visualizar la tasa de aciertos, ya que la tasa de fallos es =100-tasaAciertos. Primero veremos los resultados de entrenamiento:"
      ]
    },
    {
      "cell_type": "code",
      "execution_count": 18,
      "metadata": {
        "colab": {
          "base_uri": "https://localhost:8080/",
          "height": 316
        },
        "id": "yZ4F3iEeKXpR",
        "outputId": "bde10d36-dddb-4811-db32-2ca4412ccbd7"
      },
      "outputs": [
        {
          "name": "stdout",
          "output_type": "stream",
          "text": [
            "Resultados de entrenamiento (3000 img):\n",
            "Tiempos de ejecucion para cada iteracion(en minutos): [1, 1, 2, 3, 6, 6, 12]\n"
          ]
        },
        {
          "data": {
            "image/png": "[encoded data removed]",
            "text/plain": [
              "<Figure size 432x288 with 1 Axes>"
            ]
          },
          "metadata": {
            "needs_background": "light"
          },
          "output_type": "display_data"
        }
      ],
      "source": [
        "print('Resultados de entrenamiento (3000 img):')\n",
        "\n",
        "#Para A = 10\n",
        "T = [10, 50, 100, 200, 300, 500, 700]      # Numero de clasificadores \n",
        "resultados = [89.5, 94.16, 95.54, 97.43, 97.57, 98.57, 99.06] # Resultados obtenidos de clasificacion\n",
        "Tiempos =[1,1,2,3,6,6,12]\n",
        "\n",
        "print('Tiempos de ejecucion para cada iteracion(en minutos):',Tiempos)\n",
        "\n",
        "plt.title(\"Porcentajes de Entrenamiento con valores de T (A=10)\")\n",
        "plt.plot(T, resultados)\n",
        "plt.show()"
      ]
    },
    {
      "cell_type": "code",
      "execution_count": 19,
      "metadata": {
        "colab": {
          "base_uri": "https://localhost:8080/",
          "height": 298
        },
        "id": "YxVmMP-WKXpR",
        "outputId": "d090715c-d4ef-4e00-d262-181b9d0a240a"
      },
      "outputs": [
        {
          "name": "stdout",
          "output_type": "stream",
          "text": [
            "Tiempos de ejecucion para cada iteracion(en minutos): [1, 6, 26, 40, 76, 81, 100]\n"
          ]
        },
        {
          "data": {
            "image/png": "[encoded data removed]",
            "text/plain": [
              "<Figure size 432x288 with 1 Axes>"
            ]
          },
          "metadata": {
            "needs_background": "light"
          },
          "output_type": "display_data"
        }
      ],
      "source": [
        "#Para A = 100\n",
        "T = [10, 50, 100, 200, 300, 500, 700]      # Numero de clasificadores \n",
        "resultados = [92.5, 96.06, 97.4, 98.66, 99.48, 99.96, 100] # Resultados obtenidos de clasificacion\n",
        "Tiempos =[1,6,26,40,76,81,100]\n",
        "\n",
        "print('Tiempos de ejecucion para cada iteracion(en minutos):',Tiempos)\n",
        "\n",
        "plt.title(\"Porcentajes de Entrenamiento con valores de T (A=100)\")\n",
        "plt.plot(T, resultados)\n",
        "plt.show()"
      ]
    },
    {
      "cell_type": "code",
      "execution_count": 20,
      "metadata": {
        "colab": {
          "base_uri": "https://localhost:8080/",
          "height": 298
        },
        "id": "mYsJzvKvKXpS",
        "outputId": "3ac4fa6f-3ae7-4c65-8a70-169d5709fa7a"
      },
      "outputs": [
        {
          "name": "stdout",
          "output_type": "stream",
          "text": [
            "Tiempos de ejecucion para cada iteracion(en minutos): [4, 15, 25, 60, 90, 120, 180]\n"
          ]
        },
        {
          "data": {
            "image/png": "[encoded data removed]",
            "text/plain": [
              "<Figure size 432x288 with 1 Axes>"
            ]
          },
          "metadata": {
            "needs_background": "light"
          },
          "output_type": "display_data"
        }
      ],
      "source": [
        "#Para A = 200\n",
        "T = [10, 50, 100, 200, 300, 500, 700]      # Numero de clasificadores \n",
        "resultados = [92.38, 96.31, 97.84, 99.16, 99.75, 100, 100] # Resultados obtenidos de clasificacion\n",
        "Tiempos =[4,15,25,60,90,120,180]\n",
        "\n",
        "print('Tiempos de ejecucion para cada iteracion(en minutos):',Tiempos)\n",
        "\n",
        "plt.title(\"Porcentajes de Entrenamiento con valores de T (A=200)\")\n",
        "plt.plot(T, resultados)\n",
        "plt.show()"
      ]
    },
    {
      "cell_type": "code",
      "execution_count": 21,
      "metadata": {
        "colab": {
          "base_uri": "https://localhost:8080/",
          "height": 298
        },
        "id": "gRruGPaKKXpS",
        "outputId": "a8f7b841-fc27-4a9a-a682-79ea4e1990c8"
      },
      "outputs": [
        {
          "name": "stdout",
          "output_type": "stream",
          "text": [
            "Tiempos de ejecucion para cada iteracion(en minutos): [6, 60, 85, 120, 200, 300, 480]\n"
          ]
        },
        {
          "data": {
            "image/png": "[encoded data removed]",
            "text/plain": [
              "<Figure size 432x288 with 1 Axes>"
            ]
          },
          "metadata": {
            "needs_background": "light"
          },
          "output_type": "display_data"
        }
      ],
      "source": [
        "#Para A = 500\n",
        "T = [10, 50, 100, 200, 300, 500, 700]      # Numero de clasificadores \n",
        "resultados = [93.67, 96.88, 98.33, 99.59, 99.97, 100, 100] # Resultados obtenidos de clasificacion\n",
        "Tiempos =[6,60,85,120,200,300,480]\n",
        "\n",
        "print('Tiempos de ejecucion para cada iteracion(en minutos):',Tiempos)\n",
        "\n",
        "plt.title(\"Porcentajes de Entrenamiento con valores de T (A=500)\")\n",
        "plt.plot(T, resultados)\n",
        "plt.show()"
      ]
    },
    {
      "cell_type": "code",
      "execution_count": 22,
      "metadata": {
        "colab": {
          "base_uri": "https://localhost:8080/",
          "height": 298
        },
        "id": "WYGhT2YQKXpS",
        "outputId": "0d9bd28a-bc3d-4a27-e8b5-e638acf40910"
      },
      "outputs": [
        {
          "name": "stdout",
          "output_type": "stream",
          "text": [
            "Tiempos de ejecucion para cada iteracion(en minutos): [36, 120, 167, 260, 812]\n"
          ]
        },
        {
          "data": {
            "image/png": "[encoded data removed]",
            "text/plain": [
              "<Figure size 432x288 with 1 Axes>"
            ]
          },
          "metadata": {
            "needs_background": "light"
          },
          "output_type": "display_data"
        }
      ],
      "source": [
        "#Para A = 1000\n",
        "T = [10, 50, 100, 200, 300]      # Numero de clasificadores \n",
        "resultados = [93.67, 97, 98.53, 99.75, 99.99] # Resultados obtenidos de clasificacion\n",
        "Tiempos =[36,120,167,260,812]\n",
        "\n",
        "print('Tiempos de ejecucion para cada iteracion(en minutos):',Tiempos)\n",
        "\n",
        "plt.title(\"Porcentajes de Entrenamiento con valores de T (A=1000)\")\n",
        "plt.plot(T, resultados)\n",
        "plt.show()"
      ]
    },
    {
      "cell_type": "markdown",
      "metadata": {
        "id": "nuUML3dQKXpS"
      },
      "source": [
        "Como podemos ver en las graficas de entrenamiento, se logra llegar a porcentajes elevados (>98%) utilizando valores de T>=200, independientemente del valor de A, aunque con valores mayores de A se puede llegar a porcentajes elevados utilizando valores de T ligeramente menores, pero teniendo en cuenta el tiempo de ejecucion, a medida que se aumenta el valor de A, aumenta exponencialmente el tiempo de ejecucion, por lo que para el caso de entrenamiento, si queremos obtener los valores optimos de A y T para llegar a un 100% de aciertos, y con el tiempo minimo, utilizariamos A=100, T=700, con un tiempo de 100 minutos, pero tambien tenemos que tener en cuenta los resultados obtenidos al probar con 6000 imagenes distintas, lo cual veremos en las graficas que van a continuacion."
      ]
    },
    {
      "cell_type": "markdown",
      "metadata": {
        "id": "qYxosHJvKXpS"
      },
      "source": [
        "Por otro lado, no se ha notado ningun sobre entrenamiento, una vez que el porcentaje de aciertos llega a 100%, aumentando los parametros no causa ningun aumento en el porcentaje de fallos, como se puede ver en las graficas vistas anteriormente."
      ]
    },
    {
      "cell_type": "markdown",
      "metadata": {
        "id": "ZGE6-hqFLn1u"
      },
      "source": [
        "###**3.2.2 Resultados de prueba**"
      ]
    },
    {
      "cell_type": "code",
      "execution_count": 23,
      "metadata": {
        "colab": {
          "base_uri": "https://localhost:8080/",
          "height": 368
        },
        "id": "4NLzqUOAKXpT",
        "outputId": "b203db61-ff07-49fc-cf0a-76c831a804e2"
      },
      "outputs": [
        {
          "name": "stdout",
          "output_type": "stream",
          "text": [
            "Resultados de prueba (6000 img):\n",
            "Para A = 10:\n",
            "Numero de clasificadores utilizados: [10, 50, 100, 200, 300, 500, 700]\n",
            "Resultados obtenidos (Porcentaje de aciertos): [44.62, 46.7, 47.52, 48, 48.05, 48.4, 48.42]\n",
            "Tiempos de ejecucion para cada iteracion(en minutos): [1, 1, 2, 3, 6, 6, 12]\n"
          ]
        },
        {
          "data": {
            "image/png": "[encoded data removed]",
            "text/plain": [
              "<Figure size 432x288 with 1 Axes>"
            ]
          },
          "metadata": {
            "needs_background": "light"
          },
          "output_type": "display_data"
        }
      ],
      "source": [
        "print('Resultados de prueba (6000 img):')\n",
        "#Para A = 10\n",
        "T = [10, 50, 100, 200, 300, 500, 700]      # Numero de clasificadores \n",
        "resultados = [44.62, 46.7, 47.52, 48, 48.05, 48.4, 48.42] # Resultados obtenidos de clasificacion\n",
        "Tiempos =[1,1,2,3,6,6,12]\n",
        "print('Para A = 10:')\n",
        "print('Numero de clasificadores utilizados:',T)\n",
        "print('Resultados obtenidos (Porcentaje de aciertos):',resultados)\n",
        "print('Tiempos de ejecucion para cada iteracion(en minutos):',Tiempos)\n",
        "\n",
        "plt.title(\"Porcentajes de prueba con valores de T (A=10)\")\n",
        "plt.plot(T, resultados)\n",
        "plt.show()\n"
      ]
    },
    {
      "cell_type": "code",
      "execution_count": 24,
      "metadata": {
        "colab": {
          "base_uri": "https://localhost:8080/",
          "height": 350
        },
        "id": "98jFTT8dKXpT",
        "outputId": "d71d0b82-ef30-4ffd-9f74-98ce84cf9218"
      },
      "outputs": [
        {
          "name": "stdout",
          "output_type": "stream",
          "text": [
            "Para A = 100:\n",
            "Numero de clasificadores utilizados: [10, 50, 100, 200, 300, 500, 700]\n",
            "Resultados obtenidos (Porcentaje de aciertos): [46.04, 47.57, 48.07, 48.25, 48.33, 48.58, 48.62]\n",
            "Tiempos de ejecucion para cada iteracion(en minutos): [1, 6, 26, 40, 76, 81, 100]\n"
          ]
        },
        {
          "data": {
            "image/png": "[encoded data removed]",
            "text/plain": [
              "<Figure size 432x288 with 1 Axes>"
            ]
          },
          "metadata": {
            "needs_background": "light"
          },
          "output_type": "display_data"
        }
      ],
      "source": [
        "#Para A = 100\n",
        "T = [10, 50, 100, 200, 300, 500, 700]      # Numero de clasificadores \n",
        "resultados = [46.04, 47.57, 48.07, 48.25, 48.33, 48.58, 48.62] # Resultados obtenidos de clasificacion\n",
        "Tiempos =[1,6,26,40,76,81,100]\n",
        "print('Para A = 100:')\n",
        "print('Numero de clasificadores utilizados:',T)\n",
        "print('Resultados obtenidos (Porcentaje de aciertos):',resultados)\n",
        "print('Tiempos de ejecucion para cada iteracion(en minutos):',Tiempos)\n",
        "\n",
        "plt.title(\"Porcentajes de prueba con valores de T (A=100)\")\n",
        "plt.plot(T, resultados)\n",
        "plt.show()\n"
      ]
    },
    {
      "cell_type": "code",
      "execution_count": 25,
      "metadata": {
        "colab": {
          "base_uri": "https://localhost:8080/",
          "height": 350
        },
        "id": "A_rZL_GNKXpT",
        "outputId": "138ea7e0-c9de-4e24-f886-1734152f1939"
      },
      "outputs": [
        {
          "name": "stdout",
          "output_type": "stream",
          "text": [
            "Para A = 200:\n",
            "Numero de clasificadores utilizados: [10, 50, 100, 200, 300, 500, 700]\n",
            "Resultados obtenidos (Porcentaje de aciertos): [46.05, 47.69, 48.08, 48.31, 48.44, 48.53, 48.58]\n",
            "Tiempos de ejecucion para cada iteracion(en minutos): [4, 15, 25, 60, 90, 120, 180]\n"
          ]
        },
        {
          "data": {
            "image/png": "[encoded data removed]",
            "text/plain": [
              "<Figure size 432x288 with 1 Axes>"
            ]
          },
          "metadata": {
            "needs_background": "light"
          },
          "output_type": "display_data"
        }
      ],
      "source": [
        "#Para A = 200\n",
        "T = [10, 50, 100, 200, 300, 500, 700]      # Numero de clasificadores \n",
        "resultados = [46.05, 47.69, 48.08, 48.31, 48.44, 48.53, 48.58] # Resultados obtenidos de clasificacion\n",
        "Tiempos =[4,15,25,60,90,120,180]\n",
        "print('Para A = 200:')\n",
        "print('Numero de clasificadores utilizados:',T)\n",
        "print('Resultados obtenidos (Porcentaje de aciertos):',resultados)\n",
        "print('Tiempos de ejecucion para cada iteracion(en minutos):',Tiempos)\n",
        "\n",
        "plt.title(\"Porcentajes de prueba con valores de T (A=200)\")\n",
        "plt.plot(T, resultados)\n",
        "plt.show()"
      ]
    },
    {
      "cell_type": "code",
      "execution_count": 26,
      "metadata": {
        "colab": {
          "base_uri": "https://localhost:8080/",
          "height": 350
        },
        "id": "Jmz69vznKXpT",
        "outputId": "63279b89-8682-476e-b40c-a9919245d720"
      },
      "outputs": [
        {
          "name": "stdout",
          "output_type": "stream",
          "text": [
            "Para A = 500:\n",
            "Numero de clasificadores utilizados: [10, 50, 100, 200, 300, 500, 700]\n",
            "Resultados obtenidos (Porcentaje de aciertos): [46.67, 47.85, 48.17, 48.34, 48.48, 48.56, 48.59]\n",
            "Tiempos de ejecucion para cada iteracion(en minutos): [6, 60, 85, 120, 200, 300, 480]\n"
          ]
        },
        {
          "data": {
            "image/png": "[encoded data removed]",
            "text/plain": [
              "<Figure size 432x288 with 1 Axes>"
            ]
          },
          "metadata": {
            "needs_background": "light"
          },
          "output_type": "display_data"
        }
      ],
      "source": [
        "#Para A = 500\n",
        "T = [10, 50, 100, 200, 300, 500, 700]      # Numero de clasificadores \n",
        "resultados = [46.67, 47.85, 48.17, 48.34, 48.48, 48.56, 48.59] # Resultados obtenidos de clasificacion\n",
        "Tiempos =[6,60,85,120,200,300,480]\n",
        "print('Para A = 500:')\n",
        "print('Numero de clasificadores utilizados:',T)\n",
        "print('Resultados obtenidos (Porcentaje de aciertos):',resultados)\n",
        "print('Tiempos de ejecucion para cada iteracion(en minutos):',Tiempos)\n",
        "\n",
        "plt.title(\"Porcentajes de prueba con valores de T (A=500)\")\n",
        "plt.plot(T, resultados)\n",
        "plt.show()"
      ]
    },
    {
      "cell_type": "code",
      "execution_count": 27,
      "metadata": {
        "colab": {
          "base_uri": "https://localhost:8080/",
          "height": 350
        },
        "id": "-lRhqPioKXpT",
        "outputId": "55288424-3d7d-4880-f0e5-e7776fa12a6f"
      },
      "outputs": [
        {
          "name": "stdout",
          "output_type": "stream",
          "text": [
            "Para A = 1000:\n",
            "Numero de clasificadores utilizados: [10, 50, 100, 200, 300]\n",
            "Resultados obtenidos (Porcentaje de aciertos): [46.44, 47.88, 48.21, 48.36, 48.59]\n",
            "Tiempos de ejecucion para cada iteracion(en minutos): [36, 120, 167, 260, 812]\n"
          ]
        },
        {
          "data": {
            "image/png": "[encoded data removed]",
            "text/plain": [
              "<Figure size 432x288 with 1 Axes>"
            ]
          },
          "metadata": {
            "needs_background": "light"
          },
          "output_type": "display_data"
        }
      ],
      "source": [
        "#Para A = 1000\n",
        "T = [10, 50, 100, 200, 300]      # Numero de clasificadores \n",
        "resultados = [46.44, 47.88, 48.21, 48.36, 48.59] # Resultados obtenidos de clasificacion\n",
        "Tiempos =[36,120,167,260,812]\n",
        "print('Para A = 1000:')\n",
        "print('Numero de clasificadores utilizados:',T)\n",
        "print('Resultados obtenidos (Porcentaje de aciertos):',resultados)\n",
        "print('Tiempos de ejecucion para cada iteracion(en minutos):',Tiempos)\n",
        "\n",
        "plt.title(\"Porcentajes de prueba con valores de T (A=1000)\")\n",
        "plt.plot(T, resultados)\n",
        "plt.show()"
      ]
    },
    {
      "cell_type": "markdown",
      "metadata": {
        "id": "r8eRtWQhKXpU"
      },
      "source": [
        "Lo primero que notaremos es que los porcentajes de acierto son muy bajos, esto se debe a que hemos utilizado solamente 3000 imagenes de entrenamiento, y 6000 de prueba, si hubiesemos utilizado más imagenes de entrenamiento los porcentajes serian mayores, ya que los clasificadores estarian mejor entrenados, pero como hemos visto en el apartado anterior, los tiempos aumentan exponencialmente, por lo que se ha decidido probar solamente con 3000 imagenes de entrenamiento."
      ]
    },
    {
      "cell_type": "markdown",
      "metadata": {
        "id": "yPwb0BTuKXpU"
      },
      "source": [
        "Podemos ver en todas las graficas que los porcentajes de acierto aumentan considerablemente conforme aumenta la T, hasta llegar a T=200, donde el aumento ya no es tan visible (en algunos casos es tan bajo como 0.07%), pero el tiempo sigue aumentando exponencialmente, por lo que para que el algoritmo funcione correctamente necesitaremos una T con valor a partir de 200.\n"
      ]
    },
    {
      "cell_type": "markdown",
      "metadata": {
        "id": "b6n19iwMKXpU"
      },
      "source": [
        "Luego para obtener el valor optimo de A, debemos mirar el mayor porcentaje de aciertos tanto de prueba como de entrenamiento, teniendo en cuenta el tiempo, por lo cual podemos deducir que el valor optimo general es A=100 y T=500, donde la tasa de aciertos de prueba es de 48.58%, y la de entrenamiento un 99.96%, con un tiempo de 81 minutos."
      ]
    }
  ],
  "metadata": {
    "colab": {
      "collapsed_sections": [],
      "name": "Curso2021P2_Colab.ipynb",
      "provenance": []
    },
    "kernelspec": {
      "display_name": "Python 3",
      "name": "python3"
    },
    "language_info": {
      "codemirror_mode": {
        "name": "ipython",
        "version": 3
      },
      "file_extension": ".py",
      "mimetype": "text/x-python",
      "name": "python",
      "nbconvert_exporter": "python",
      "pygments_lexer": "ipython3",
      "version": "3.9.9"
    }
  },
  "nbformat": 4,
  "nbformat_minor": 0
}
