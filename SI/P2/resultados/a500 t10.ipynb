{
  "cells": [
    {
      "cell_type": "markdown",
      "metadata": {
        "id": "G1w-sVA-h82d"
      },
      "source": [
        "# Práctica 2: clasificación de dígitos MNIST mediante AdaBoost"
      ]
    },
    {
      "cell_type": "markdown",
      "metadata": {
        "id": "d1hbMxmiiHWI"
      },
      "source": [
        "**Introducción**"
      ]
    },
    {
      "cell_type": "markdown",
      "metadata": {
        "id": "12Jm82LuM4D8"
      },
      "source": [
        "Importar librerías"
      ]
    },
    {
      "cell_type": "code",
      "execution_count": 19,
      "metadata": {
        "id": "qPgdzozKxsJi"
      },
      "outputs": [],
      "source": [
        "import numpy as np\n",
        "import matplotlib.pyplot as plt\n",
        "import random\n",
        "import math\n",
        "from keras.datasets import mnist"
      ]
    },
    {
      "cell_type": "markdown",
      "metadata": {
        "id": "fabseaAOf3da"
      },
      "source": [
        "Desde la libería de Keras podemos descargar la base datos MNIST"
      ]
    },
    {
      "cell_type": "code",
      "execution_count": 20,
      "metadata": {
        "id": "ObCTezA8gHOb"
      },
      "outputs": [],
      "source": [
        "(x_train, y_train), (x_test, y_test) = mnist.load_data()"
      ]
    },
    {
      "cell_type": "code",
      "execution_count": 21,
      "metadata": {
        "colab": {
          "base_uri": "https://localhost:8080/"
        },
        "id": "c5vspCNFgHyz",
        "outputId": "51b0078e-6a46-4a1c-ad37-346895c15c44"
      },
      "outputs": [
        {
          "output_type": "execute_result",
          "data": {
            "text/plain": [
              "((60000, 28, 28), (60000,))"
            ]
          },
          "metadata": {},
          "execution_count": 21
        }
      ],
      "source": [
        "x_train.shape,y_train.shape"
      ]
    },
    {
      "cell_type": "markdown",
      "metadata": {
        "id": "QMWE3hpqgs3c"
      },
      "source": [
        "Guardar base de datos en un fichero"
      ]
    },
    {
      "cell_type": "code",
      "execution_count": 22,
      "metadata": {
        "id": "UwZhUZfpg2bd"
      },
      "outputs": [],
      "source": [
        "np.savez(\"mnist\",x=x_train,y=y_train)"
      ]
    },
    {
      "cell_type": "markdown",
      "metadata": {
        "id": "ZhvNEctdiV2W"
      },
      "source": [
        "Cargar base de datos desde un fichero"
      ]
    },
    {
      "cell_type": "code",
      "execution_count": 23,
      "metadata": {
        "colab": {
          "base_uri": "https://localhost:8080/"
        },
        "id": "PAHczaleib5u",
        "outputId": "0725d511-8d8f-44db-97e3-e97ce4074729"
      },
      "outputs": [
        {
          "output_type": "execute_result",
          "data": {
            "text/plain": [
              "(60000, 28, 28)"
            ]
          },
          "metadata": {},
          "execution_count": 23
        }
      ],
      "source": [
        "npzfile = np.load(\"mnist.npz\")\n",
        "mnist_X = npzfile['x']\n",
        "mnist_Y = npzfile['y']\n",
        "mnist_X.shape"
      ]
    },
    {
      "cell_type": "markdown",
      "metadata": {
        "id": "sTGcqWYwgSoJ"
      },
      "source": [
        "Mostrar una imagen de MNIST"
      ]
    },
    {
      "cell_type": "code",
      "execution_count": 24,
      "metadata": {
        "colab": {
          "base_uri": "https://localhost:8080/",
          "height": 282
        },
        "id": "YmnDV3RigY6T",
        "outputId": "3a6799a0-65b1-42b8-e0ff-b061fc6707c8"
      },
      "outputs": [
        {
          "output_type": "display_data",
          "data": {
            "image/png": "[encoded data removed]",
            "text/plain": [
              "<Figure size 432x288 with 1 Axes>"
            ]
          },
          "metadata": {
            "needs_background": "light"
          }
        },
        {
          "output_type": "stream",
          "name": "stdout",
          "text": [
            "Etiqueta: 1\n"
          ]
        }
      ],
      "source": [
        "plt.figure()\n",
        "plt.imshow(x_train[40])\n",
        "plt.show()\n",
        "print(\"Etiqueta: \" + str(y_train[40]))"
      ]
    },
    {
      "cell_type": "markdown",
      "metadata": {
        "id": "ANntXnhohkHd"
      },
      "source": [
        "**Implementación AdaBoost**"
      ]
    },
    {
      "cell_type": "markdown",
      "metadata": {
        "id": "-Yt22wELipJT"
      },
      "source": [
        "Adaptación de los arrays de imágenes y etiquetas para AdaBoost:\n",
        "Lo que hacemos es cambiar la forma de la matriz X, para que sea un simple vector de 60000x784, utilizando reshape()"
      ]
    },
    {
      "cell_type": "code",
      "execution_count": 25,
      "metadata": {
        "id": "rNnU_E8dinOz"
      },
      "outputs": [],
      "source": [
        "def adaptar_conjuntos(X, Y):\n",
        "    X = mnist_X.reshape(60000,28*28)\n",
        "    Y = mnist_Y\n",
        "    return (X,Y)\n",
        "(X,Y) = adaptar_conjuntos(mnist_X, mnist_Y)"
      ]
    },
    {
      "cell_type": "markdown",
      "metadata": {
        "id": "CNIC4krxvztE"
      },
      "source": [
        "Funcion para especificar la clase que utilizaremos:\n",
        "En este caso modificamos el vector Y, para que en caso de que el valor de Y[i] corresponda al valor de la clase, este elemento cuente como un '1', en caso contrario sera '-1'"
      ]
    },
    {
      "cell_type": "code",
      "execution_count": 26,
      "metadata": {
        "id": "thA9pWIRvztF"
      },
      "outputs": [],
      "source": [
        "def clase(Y,clase):\n",
        "    # Ytemp = np.full(len(Y),0)\n",
        "    # for i in range(len(Y)):\n",
        "    #     if Y[i]==clase:\n",
        "    #         Ytemp[i]= 1\n",
        "    #     else:\n",
        "    #         Ytemp[i]= -1\n",
        "    # #print(Ytemp)\n",
        "    Ytemp = list(map(lambda x: 1 if x==clase else -1,Y))\n",
        "    return Ytemp"
      ]
    },
    {
      "cell_type": "markdown",
      "metadata": {
        "id": "TY5RX87hizst"
      },
      "source": [
        "Funciones necesarias para los clasificadores débiles"
      ]
    },
    {
      "cell_type": "code",
      "execution_count": 27,
      "metadata": {
        "id": "JPzp9OSAi8rj"
      },
      "outputs": [],
      "source": [
        "# Dimensión con la que vamos a trabajar. En nuestro caso 28*28\n",
        "def generar_clasificador_debil(dimension_datos):\n",
        "    pixel = random.randint(0,dimension_datos-1)\n",
        "    umbral = random.randint(0,255) \n",
        "    booleano_dir = random.randint(0,1)\n",
        "\n",
        "    if booleano_dir == 0:\n",
        "        direccion = -1\n",
        "    else:\n",
        "        direccion = 1\n",
        "\n",
        "    return (pixel,umbral,direccion) # Devolvemos el clasificador debil generado"
      ]
    },
    {
      "cell_type": "code",
      "execution_count": 28,
      "metadata": {
        "id": "OZccF64ljbUr"
      },
      "outputs": [],
      "source": [
        "def aplicar_clasificador_debil(clasificador, imagen):\n",
        "    pixel = clasificador[0]\n",
        "    umbral = clasificador[1]\n",
        "    direccion = clasificador[2]\n",
        "\n",
        "    if direccion == 1:\n",
        "        if imagen[pixel] >= umbral:\n",
        "            res = True\n",
        "        else:\n",
        "            res = False\n",
        "    else:\n",
        "        \n",
        "        if imagen[pixel] < umbral:\n",
        "            \n",
        "            res = True\n",
        "        else:\n",
        "            res = False\n",
        "\n",
        "    if res:\n",
        "        res=1\n",
        "    else:\n",
        "        res=-1\n",
        "    return res"
      ]
    },
    {
      "cell_type": "code",
      "execution_count": 29,
      "metadata": {
        "id": "M50DGeNhjgDk"
      },
      "outputs": [],
      "source": [
        "def obtener_error(clasificador, X, Y, D):\n",
        "    error = 0.0\n",
        "\n",
        "    for i in range(len(X)):\n",
        "        if aplicar_clasificador_debil(clasificador,X[i]) == 1:\n",
        "            if Y[i] != 1:\n",
        "                error = error + D[i]\n",
        "        else:\n",
        "            if Y[i] == 1:\n",
        "                error = error + D[i]\n",
        "\n",
        "    return error"
      ]
    },
    {
      "cell_type": "markdown",
      "metadata": {
        "id": "cotcuFUsjtve"
      },
      "source": [
        "Funcion de entrenamiento para un clasificador fuerte:"
      ]
    },
    {
      "cell_type": "code",
      "execution_count": 30,
      "metadata": {
        "id": "paE5m0hhjwyX"
      },
      "outputs": [],
      "source": [
        "def entrenar(X, Y, T, A):\n",
        "    clasificadores_debiles = []\n",
        "    alfas = []\n",
        "    D = np.full(len(X), 1/len(X))\n",
        "    tam_img = 28*28\n",
        "\n",
        "    for t in range(T):\n",
        "\n",
        "        min_cd=((),2)\n",
        "\n",
        "        for k in range(A):\n",
        "\n",
        "            cd = generar_clasificador_debil(tam_img)\n",
        "            error = obtener_error(cd,X,Y,D)\n",
        "\n",
        "            if error < min_cd[1] or min_cd[1] == 2:\n",
        "                min_cd=(cd,error)\n",
        "\n",
        "        clasificadores_debiles.append(min_cd[0])\n",
        "\n",
        "        if min_cd[1]<=0:\n",
        "            alfa=1/2\n",
        "        else:\n",
        "            alfa = (1/2) * math.log( (1-min_cd[1])/min_cd[1] ,2)\n",
        "\n",
        "\n",
        "        alfas.append(alfa)\n",
        "\n",
        "        Z=np.sum(D)\n",
        "        Dtemp=np.copy(D)\n",
        "\n",
        "        for x in range(len(X)):\n",
        "            cd_d = aplicar_clasificador_debil(min_cd[0],X[x])\n",
        "            Dtemp[x]=D[x]*np.exp(-alfa*Y[x]*cd_d)\n",
        "\n",
        "        D = Dtemp/Z\n",
        "            \n",
        "    return (clasificadores_debiles, alfas)"
      ]
    },
    {
      "cell_type": "markdown",
      "metadata": {
        "id": "ofQtgzdItJ4b"
      },
      "source": [
        "Funcion para aplicar un clasificador fuerte a un conjunto de imagenes:"
      ]
    },
    {
      "cell_type": "code",
      "execution_count": 31,
      "metadata": {
        "id": "RfewgGG7vztJ"
      },
      "outputs": [],
      "source": [
        "def aplicarCF(H,X):\n",
        "    res=np.full(len(X),0.0)\n",
        "\n",
        "    for x in range(len(X)):\n",
        "        h=0.0\n",
        "        for i in range(len(H[0])):\n",
        "            cd_res=aplicar_clasificador_debil(H[0][i],X[x])\n",
        "            h += H[1][i]*cd_res\n",
        "        res[x]=h\n",
        "\n",
        "    res = np.sign(res)\n",
        "    res = res.astype(int)\n",
        "    return res"
      ]
    },
    {
      "cell_type": "markdown",
      "metadata": {
        "id": "sHyBl9IXOSQL"
      },
      "source": [
        "Análisis y resultados de las pruebas realizadas "
      ]
    },
    {
      "cell_type": "markdown",
      "metadata": {
        "id": "vAYch3yHtJ4d"
      },
      "source": [
        "Las siguientes 2 funciones se utilizan para obtener tanto el numero de aciertos como el porcentaje de aciertos, la parte comentada puede ser util para depurar y ver los resultados exactos."
      ]
    },
    {
      "cell_type": "code",
      "execution_count": 32,
      "metadata": {
        "id": "YTwITRpMvztK"
      },
      "outputs": [],
      "source": [
        "def comparar(res,Y):\n",
        "    aciertos=0\n",
        "    for y in range(len(Y)):\n",
        "        if res[y]==Y[y]:\n",
        "            aciertos+=1\n",
        "\n",
        "    return round(aciertos/len(Y)*100,2)"
      ]
    },
    {
      "cell_type": "code",
      "execution_count": 33,
      "metadata": {
        "id": "8jhC6qIRvztM"
      },
      "outputs": [],
      "source": [
        "def resultados(cf_img,Y,tam_muestra):\n",
        "    #print('lenY:',len(Y))\n",
        "    aciertos = 0\n",
        "    aciertosC = np.full(10,0)\n",
        "    fallos = 0\n",
        "    fallosC = np.full(10,0)\n",
        "    countC= np.full(10,0)\n",
        "\n",
        "    for i in range(tam_muestra):\n",
        "        for j in range(10):\n",
        "            #Yclase = clase(Y,j)\n",
        "\n",
        "            if cf_img[i][j] == Y[j][i]:\n",
        "                aciertos+=1\n",
        "                aciertosC[j]+=1\n",
        "            else:\n",
        "                fallos+=1\n",
        "                fallosC[j]+=1\n",
        "\n",
        "            if Y[j][i]==1:\n",
        "                countC[j]+=1\n",
        "            # if cf_img[i][j] == 1 and Y[i]==j:\n",
        "            #     aciertos+=1\n",
        "            #     aciertosC[j]+=1\n",
        "            # elif Y[i]!=j and cf_img[i][j] == 1:\n",
        "            #     fallos+=1\n",
        "            #     fallosC[j]+=1\n",
        "    print('Aciertos Total:',aciertos)\n",
        "    print('Fallos Total:',fallos)\n",
        "\n",
        "    for j in range(10):\n",
        "        #count = sum(map(lambda x : x==j,Y[j]))\n",
        "        print('Clase:',j,' Aciertos:',aciertosC[j],' Fallos:',fallosC[j],' img(',j,'):',countC[j],' Porcentaje de aciertos:',round(aciertosC[j]/tam_muestra*100,2),'%','Porcentaje de fallos:',round(fallosC[j]/tam_muestra*100,2))\n",
        "    print('Imagenes = ',tam_muestra,' | A = ',A,' | T = ',T,' | Porcentaje de aciertos(Total) = ',round(aciertos/(tam_muestra*10)*100,2),'%','Porcentaje de fallos(Total) = ',round(fallos/(tam_muestra*10)*100,2))"
      ]
    },
    {
      "cell_type": "markdown",
      "metadata": {
        "id": "h9VA7x6stJ4e"
      },
      "source": [
        "Para dividir el conjunto de entrenamiento y test, lo que se ha hecho es utilizar las primeras N imagenes del vector X para el entrenamiento, luego para realizar las pruebas se utiliza el rango N*(p-1)+ hasta N*p, donde p es el numero de la prueba actual, en el codigo siguiente se puede ver como se utiliza:"
      ]
    },
    {
      "cell_type": "markdown",
      "metadata": {
        "id": "MQcWi6m_tJ4e"
      },
      "source": [
        "Para utilizar el conjunto de prueba tenemos la siguiente funcion:\n"
      ]
    },
    {
      "cell_type": "code",
      "execution_count": 34,
      "metadata": {
        "id": "Q3VF4U8-tJ4f"
      },
      "outputs": [],
      "source": [
        "def pruebas(Hlista,Y,tam_muestra):\n",
        "    tam_prueba = 6000\n",
        "    muestra_desde = tam_muestra\n",
        "    muestra_hasta = tam_muestra + tam_prueba\n",
        "    Yclases = []\n",
        "    cf_img = np.full((tam_prueba,10),[0])\n",
        "    Yr = Y[muestra_desde:muestra_hasta]\n",
        "    \n",
        "    print('\\nResultados de TEST para: |',muestra_desde,' - ',muestra_hasta,'|:')\n",
        "\n",
        "    for c in range(10):\n",
        "        Yclase = clase(Yr,c)\n",
        "        Yclases.append(Yclase)\n",
        "        Xtest = X[muestra_desde:muestra_hasta]\n",
        "        Ytest = Yclase\n",
        "        print('len Ytest:',len(Ytest))\n",
        "        resTest = aplicarCF(Hlista[c],Xtest)\n",
        "        porcentajeTest = comparar(resTest,Ytest)\n",
        "\n",
        "        for i in range(tam_muestra):\n",
        "            cf_img[i][c] = resTest[i]\n",
        "            #print('c=',c,'resTest[i]=',resTest[i],' cf_img[i][c]=',cf_img[i][c],' Y[i]=',Y[i],' Ytest[i]=',Ytest[i])\n",
        "\n",
        "        print('clase: ',c,' resultados TEST[',muestra_desde,'-',muestra_hasta,']: ',porcentajeTest)\n",
        "    \n",
        "\n",
        "    #print('desde:',muestra_desde,'hasta:',muestra_hasta)\n",
        "    resultados(cf_img,Yclases,tam_prueba)"
      ]
    },
    {
      "cell_type": "markdown",
      "metadata": {
        "id": "qmqqFPIUtJ4f"
      },
      "source": [
        "A continuacion se encuentra el codigo principal, donde declaramos nuestros parametros T,A, y el tam_muestra (cantidad de imagenes a utilizar para entrenar y por prueba), ademas en esta parte del codigo llamamos al entrenamiento para cada clase(0-9), y guardamos los clasificadores fuertes(H) en una lista (Hlista)"
      ]
    },
    {
      "cell_type": "code",
      "execution_count": 35,
      "metadata": {
        "colab": {
          "base_uri": "https://localhost:8080/"
        },
        "id": "e5eAUu_rOaR1",
        "outputId": "a2b36ed9-8739-4dd6-b8c1-590bd96967b3"
      },
      "outputs": [
        {
          "output_type": "stream",
          "name": "stdout",
          "text": [
            "Entrenado\n",
            "clase:  0  (T: 10  A: 500 ) resultados train[ 3000 ]:  96.13 %\n",
            "Entrenado\n",
            "clase:  1  (T: 10  A: 500 ) resultados train[ 3000 ]:  94.93 %\n",
            "Entrenado\n",
            "clase:  2  (T: 10  A: 500 ) resultados train[ 3000 ]:  93.43 %\n",
            "Entrenado\n",
            "clase:  3  (T: 10  A: 500 ) resultados train[ 3000 ]:  93.17 %\n",
            "Entrenado\n",
            "clase:  4  (T: 10  A: 500 ) resultados train[ 3000 ]:  93.57 %\n",
            "Entrenado\n",
            "clase:  5  (T: 10  A: 500 ) resultados train[ 3000 ]:  91.87 %\n",
            "Entrenado\n",
            "clase:  6  (T: 10  A: 500 ) resultados train[ 3000 ]:  94.93 %\n",
            "Entrenado\n",
            "clase:  7  (T: 10  A: 500 ) resultados train[ 3000 ]:  93.6 %\n",
            "Entrenado\n",
            "clase:  8  (T: 10  A: 500 ) resultados train[ 3000 ]:  93.53 %\n",
            "Entrenado\n",
            "clase:  9  (T: 10  A: 500 ) resultados train[ 3000 ]:  91.5 %\n",
            "\n",
            "Resultados de ENTRENAMIENTO:\n",
            "Aciertos Total: 28100\n",
            "Fallos Total: 1900\n",
            "Clase: 0  Aciertos: 2884  Fallos: 116  img( 0 ): 285  Porcentaje de aciertos: 96.13 % Porcentaje de fallos: 3.87\n",
            "Clase: 1  Aciertos: 2848  Fallos: 152  img( 1 ): 339  Porcentaje de aciertos: 94.93 % Porcentaje de fallos: 5.07\n",
            "Clase: 2  Aciertos: 2803  Fallos: 197  img( 2 ): 299  Porcentaje de aciertos: 93.43 % Porcentaje de fallos: 6.57\n",
            "Clase: 3  Aciertos: 2795  Fallos: 205  img( 3 ): 295  Porcentaje de aciertos: 93.17 % Porcentaje de fallos: 6.83\n",
            "Clase: 4  Aciertos: 2807  Fallos: 193  img( 4 ): 325  Porcentaje de aciertos: 93.57 % Porcentaje de fallos: 6.43\n",
            "Clase: 5  Aciertos: 2756  Fallos: 244  img( 5 ): 274  Porcentaje de aciertos: 91.87 % Porcentaje de fallos: 8.13\n",
            "Clase: 6  Aciertos: 2848  Fallos: 152  img( 6 ): 306  Porcentaje de aciertos: 94.93 % Porcentaje de fallos: 5.07\n",
            "Clase: 7  Aciertos: 2808  Fallos: 192  img( 7 ): 329  Porcentaje de aciertos: 93.6 % Porcentaje de fallos: 6.4\n",
            "Clase: 8  Aciertos: 2806  Fallos: 194  img( 8 ): 261  Porcentaje de aciertos: 93.53 % Porcentaje de fallos: 6.47\n",
            "Clase: 9  Aciertos: 2745  Fallos: 255  img( 9 ): 287  Porcentaje de aciertos: 91.5 % Porcentaje de fallos: 8.5\n",
            "Imagenes =  3000  | A =  500  | T =  10  | Porcentaje de aciertos(Total) =  93.67 % Porcentaje de fallos(Total) =  6.33\n",
            "\n",
            "Resultados de TEST para: | 3000  -  9000 |:\n",
            "len Ytest: 6000\n",
            "clase:  0  resultados TEST[ 3000 - 9000 ]:  95.93\n",
            "len Ytest: 6000\n",
            "clase:  1  resultados TEST[ 3000 - 9000 ]:  93.35\n",
            "len Ytest: 6000\n",
            "clase:  2  resultados TEST[ 3000 - 9000 ]:  93.0\n",
            "len Ytest: 6000\n",
            "clase:  3  resultados TEST[ 3000 - 9000 ]:  92.38\n",
            "len Ytest: 6000\n",
            "clase:  4  resultados TEST[ 3000 - 9000 ]:  93.42\n",
            "len Ytest: 6000\n",
            "clase:  5  resultados TEST[ 3000 - 9000 ]:  92.53\n",
            "len Ytest: 6000\n",
            "clase:  6  resultados TEST[ 3000 - 9000 ]:  94.5\n",
            "len Ytest: 6000\n",
            "clase:  7  resultados TEST[ 3000 - 9000 ]:  92.85\n",
            "len Ytest: 6000\n",
            "clase:  8  resultados TEST[ 3000 - 9000 ]:  92.5\n",
            "len Ytest: 6000\n",
            "clase:  9  resultados TEST[ 3000 - 9000 ]:  91.43\n",
            "Aciertos Total: 28002\n",
            "Fallos Total: 31998\n",
            "Clase: 0  Aciertos: 2875  Fallos: 3125  img( 0 ): 606  Porcentaje de aciertos: 47.92 % Porcentaje de fallos: 52.08\n",
            "Clase: 1  Aciertos: 2831  Fallos: 3169  img( 1 ): 684  Porcentaje de aciertos: 47.18 % Porcentaje de fallos: 52.82\n",
            "Clase: 2  Aciertos: 2791  Fallos: 3209  img( 2 ): 590  Porcentaje de aciertos: 46.52 % Porcentaje de fallos: 53.48\n",
            "Clase: 3  Aciertos: 2780  Fallos: 3220  img( 3 ): 627  Porcentaje de aciertos: 46.33 % Porcentaje de fallos: 53.67\n",
            "Clase: 4  Aciertos: 2805  Fallos: 3195  img( 4 ): 574  Porcentaje de aciertos: 46.75 % Porcentaje de fallos: 53.25\n",
            "Clase: 5  Aciertos: 2795  Fallos: 3205  img( 5 ): 500  Porcentaje de aciertos: 46.58 % Porcentaje de fallos: 53.42\n",
            "Clase: 6  Aciertos: 2832  Fallos: 3168  img( 6 ): 602  Porcentaje de aciertos: 47.2 % Porcentaje de fallos: 52.8\n",
            "Clase: 7  Aciertos: 2771  Fallos: 3229  img( 7 ): 632  Porcentaje de aciertos: 46.18 % Porcentaje de fallos: 53.82\n",
            "Clase: 8  Aciertos: 2781  Fallos: 3219  img( 8 ): 585  Porcentaje de aciertos: 46.35 % Porcentaje de fallos: 53.65\n",
            "Clase: 9  Aciertos: 2741  Fallos: 3259  img( 9 ): 600  Porcentaje de aciertos: 45.68 % Porcentaje de fallos: 54.32\n",
            "Imagenes =  6000  | A =  500  | T =  10  | Porcentaje de aciertos(Total) =  46.67 % Porcentaje de fallos(Total) =  53.33\n"
          ]
        }
      ],
      "source": [
        "T = 10 #num cd a usar\n",
        "A = 500 #num pruebas aleatorias para cada cd\n",
        "tam_muestra=3000\n",
        "cf_img = np.full((tam_muestra,10),[0])\n",
        "Hlista = []\n",
        "Yclases = []\n",
        "for c in range(10):\n",
        "    Yclase = clase(Y,c)\n",
        "    Yclases.append(Yclase)\n",
        "    Xtrain=X[:tam_muestra]\n",
        "    Ytrain=Yclase[:tam_muestra]\n",
        "\n",
        "    H = entrenar(Xtrain, Ytrain, T, A)\n",
        "    Hlista.append(H)\n",
        "    print('Entrenado')\n",
        "    res = aplicarCF(H,Xtrain)\n",
        "\n",
        "    for i in range(tam_muestra):\n",
        "        cf_img[i][c] = res[i]\n",
        "        #print('c=',c,'res[i]=',res[i],' cf_img[i][c]=',cf_img[i][c],' Y[i]=',Y[i],' Ytrain[i]=',Ytrain[i])\n",
        "\n",
        "    porcentajeEntrenamiento = comparar(res,Ytrain)\n",
        "\n",
        "    print('clase: ',c,' (T:',T,' A:',A,') resultados train[',tam_muestra,']: ',porcentajeEntrenamiento,'%')\n",
        "#print('len:',len(Hlista),' Hlista:',Hlista)\n",
        "\n",
        "print('\\nResultados de ENTRENAMIENTO:')\n",
        "resultados(cf_img,Yclases,tam_muestra)\n",
        "\n",
        "pruebas(Hlista,Y,tam_muestra)\n",
        "\n"
      ]
    },
    {
      "cell_type": "markdown",
      "metadata": {
        "id": "Xz_g3ECYvztL"
      },
      "source": [
        "Y a continuacion obtendremos graficas comparativas a partir de resultados obtenidos en ejecuciones anteriores:"
      ]
    },
    {
      "cell_type": "code",
      "execution_count": 36,
      "metadata": {
        "id": "5QVZBOoNtJ4h"
      },
      "outputs": [],
      "source": [
        "# Para A = 10\n",
        "# T = [0, 50, 100, 150, 200, 250]      # Numero de clasificadores \n",
        "# resultados = [0, 20, 35, 56, 68] # Resultados obtenidos de clasificacion\n",
        "\n",
        "# plt.title(\"Porcentajes con valores de T (A=10)\")\n",
        "# plt.plot(T, resultados)\n",
        "# plt.show()\n",
        "\n",
        "# Para A = 100\n",
        "# T = [0, 50, 100, 150, 200, 250]      # Numero de clasificadores \n",
        "# resultados = [0, 20, 35, 56, 68] # Resultados obtenidos de clasificacion\n",
        "\n",
        "# plt.title(\"Porcentajes con valores de T (A=100)\")\n",
        "# plt.plot(T, resultados)\n",
        "# plt.show()\n",
        "\n",
        "# Para A = 200\n",
        "# T = [0, 50, 100, 150, 200, 250]      # Numero de clasificadores \n",
        "# resultados = [0, 20, 35, 56, 68] # Resultados obtenidos de clasificacion\n",
        "\n",
        "# plt.title(\"Porcentajes con valores de T (A=200)\")\n",
        "# plt.plot(T, resultados)\n",
        "# plt.show()\n",
        "\n",
        "# Para A = 500\n",
        "# T = [0, 50, 100, 150, 200, 250]      # Numero de clasificadores \n",
        "# resultados = [0, 20, 35, 56, 68] # Resultados obtenidos de clasificacion\n",
        "\n",
        "# plt.title(\"Porcentajes con valores de T (A=500)\")\n",
        "# plt.plot(T, resultados)\n",
        "# plt.show()\n",
        "\n",
        "# Para A = 1000\n",
        "# T = [0, 50, 100, 150, 200, 250]      # Numero de clasificadores \n",
        "# resultados = [0, 20, 35, 56, 68] # Resultados obtenidos de clasificacion\n",
        "\n",
        "# plt.title(\"Porcentajes con valores de T (A=1000)\")\n",
        "# plt.plot(T, resultados)\n",
        "# plt.show()\n",
        "\n"
      ]
    }
  ],
  "metadata": {
    "colab": {
      "collapsed_sections": [],
      "name": "Curso2021P2_Colab.ipynb",
      "provenance": []
    },
    "kernelspec": {
      "display_name": "Python 3",
      "name": "python3"
    },
    "language_info": {
      "codemirror_mode": {
        "name": "ipython",
        "version": 3
      },
      "file_extension": ".py",
      "mimetype": "text/x-python",
      "name": "python",
      "nbconvert_exporter": "python",
      "pygments_lexer": "ipython3",
      "version": "3.9.9"
    }
  },
  "nbformat": 4,
  "nbformat_minor": 0
}