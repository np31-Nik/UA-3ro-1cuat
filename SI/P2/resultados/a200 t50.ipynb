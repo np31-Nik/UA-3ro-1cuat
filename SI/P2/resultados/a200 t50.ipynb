{
  "cells": [
    {
      "cell_type": "markdown",
      "metadata": {
        "id": "G1w-sVA-h82d"
      },
      "source": [
        "# Práctica 2: clasificación de dígitos MNIST mediante AdaBoost"
      ]
    },
    {
      "cell_type": "markdown",
      "metadata": {
        "id": "d1hbMxmiiHWI"
      },
      "source": [
        "**Introducción**"
      ]
    },
    {
      "cell_type": "markdown",
      "metadata": {
        "id": "12Jm82LuM4D8"
      },
      "source": [
        "Importar librerías"
      ]
    },
    {
      "cell_type": "code",
      "execution_count": 37,
      "metadata": {
        "id": "qPgdzozKxsJi"
      },
      "outputs": [],
      "source": [
        "import numpy as np\n",
        "import matplotlib.pyplot as plt\n",
        "import random\n",
        "import math\n",
        "from keras.datasets import mnist"
      ]
    },
    {
      "cell_type": "markdown",
      "metadata": {
        "id": "fabseaAOf3da"
      },
      "source": [
        "Desde la libería de Keras podemos descargar la base datos MNIST"
      ]
    },
    {
      "cell_type": "code",
      "execution_count": 38,
      "metadata": {
        "id": "ObCTezA8gHOb"
      },
      "outputs": [],
      "source": [
        "(x_train, y_train), (x_test, y_test) = mnist.load_data()"
      ]
    },
    {
      "cell_type": "code",
      "execution_count": 39,
      "metadata": {
        "colab": {
          "base_uri": "https://localhost:8080/"
        },
        "id": "c5vspCNFgHyz",
        "outputId": "d31f2cfa-3bdb-42a3-aef8-7d24728cdd54"
      },
      "outputs": [
        {
          "output_type": "execute_result",
          "data": {
            "text/plain": [
              "((60000, 28, 28), (60000,))"
            ]
          },
          "metadata": {},
          "execution_count": 39
        }
      ],
      "source": [
        "x_train.shape,y_train.shape"
      ]
    },
    {
      "cell_type": "markdown",
      "metadata": {
        "id": "QMWE3hpqgs3c"
      },
      "source": [
        "Guardar base de datos en un fichero"
      ]
    },
    {
      "cell_type": "code",
      "execution_count": 40,
      "metadata": {
        "id": "UwZhUZfpg2bd"
      },
      "outputs": [],
      "source": [
        "np.savez(\"mnist\",x=x_train,y=y_train)"
      ]
    },
    {
      "cell_type": "markdown",
      "metadata": {
        "id": "ZhvNEctdiV2W"
      },
      "source": [
        "Cargar base de datos desde un fichero"
      ]
    },
    {
      "cell_type": "code",
      "execution_count": 41,
      "metadata": {
        "colab": {
          "base_uri": "https://localhost:8080/"
        },
        "id": "PAHczaleib5u",
        "outputId": "1f6bc378-4ace-40cb-afe3-0bb479e2f03c"
      },
      "outputs": [
        {
          "output_type": "execute_result",
          "data": {
            "text/plain": [
              "(60000, 28, 28)"
            ]
          },
          "metadata": {},
          "execution_count": 41
        }
      ],
      "source": [
        "npzfile = np.load(\"mnist.npz\")\n",
        "mnist_X = npzfile['x']\n",
        "mnist_Y = npzfile['y']\n",
        "mnist_X.shape"
      ]
    },
    {
      "cell_type": "markdown",
      "metadata": {
        "id": "sTGcqWYwgSoJ"
      },
      "source": [
        "Mostrar una imagen de MNIST"
      ]
    },
    {
      "cell_type": "code",
      "execution_count": 42,
      "metadata": {
        "colab": {
          "base_uri": "https://localhost:8080/",
          "height": 282
        },
        "id": "YmnDV3RigY6T",
        "outputId": "96d6bc58-8c29-4bcb-c4a3-a818bf0495e2"
      },
      "outputs": [
        {
          "output_type": "display_data",
          "data": {
            "image/png": "[encoded data removed]",
            "text/plain": [
              "<Figure size 432x288 with 1 Axes>"
            ]
          },
          "metadata": {
            "needs_background": "light"
          }
        },
        {
          "output_type": "stream",
          "name": "stdout",
          "text": [
            "Etiqueta: 1\n"
          ]
        }
      ],
      "source": [
        "plt.figure()\n",
        "plt.imshow(x_train[40])\n",
        "plt.show()\n",
        "print(\"Etiqueta: \" + str(y_train[40]))"
      ]
    },
    {
      "cell_type": "markdown",
      "metadata": {
        "id": "ANntXnhohkHd"
      },
      "source": [
        "**Implementación AdaBoost**"
      ]
    },
    {
      "cell_type": "markdown",
      "metadata": {
        "id": "-Yt22wELipJT"
      },
      "source": [
        "Adaptación de los arrays de imágenes y etiquetas para AdaBoost:\n",
        "Lo que hacemos es cambiar la forma de la matriz X, para que sea un simple vector de 60000x784, utilizando reshape()"
      ]
    },
    {
      "cell_type": "code",
      "execution_count": 43,
      "metadata": {
        "id": "rNnU_E8dinOz"
      },
      "outputs": [],
      "source": [
        "def adaptar_conjuntos(X, Y):\n",
        "    X = mnist_X.reshape(60000,28*28)\n",
        "    Y = mnist_Y\n",
        "    return (X,Y)\n",
        "(X,Y) = adaptar_conjuntos(mnist_X, mnist_Y)"
      ]
    },
    {
      "cell_type": "markdown",
      "metadata": {
        "id": "CNIC4krxvztE"
      },
      "source": [
        "Funcion para especificar la clase que utilizaremos:\n",
        "En este caso modificamos el vector Y, para que en caso de que el valor de Y[i] corresponda al valor de la clase, este elemento cuente como un '1', en caso contrario sera '-1'"
      ]
    },
    {
      "cell_type": "code",
      "execution_count": 44,
      "metadata": {
        "id": "thA9pWIRvztF"
      },
      "outputs": [],
      "source": [
        "def clase(Y,clase):\n",
        "    # Ytemp = np.full(len(Y),0)\n",
        "    # for i in range(len(Y)):\n",
        "    #     if Y[i]==clase:\n",
        "    #         Ytemp[i]= 1\n",
        "    #     else:\n",
        "    #         Ytemp[i]= -1\n",
        "    # #print(Ytemp)\n",
        "    Ytemp = list(map(lambda x: 1 if x==clase else -1,Y))\n",
        "    return Ytemp"
      ]
    },
    {
      "cell_type": "markdown",
      "metadata": {
        "id": "TY5RX87hizst"
      },
      "source": [
        "Funciones necesarias para los clasificadores débiles"
      ]
    },
    {
      "cell_type": "code",
      "execution_count": 45,
      "metadata": {
        "id": "JPzp9OSAi8rj"
      },
      "outputs": [],
      "source": [
        "# Dimensión con la que vamos a trabajar. En nuestro caso 28*28\n",
        "def generar_clasificador_debil(dimension_datos):\n",
        "    pixel = random.randint(0,dimension_datos-1)\n",
        "    umbral = random.randint(0,255) \n",
        "    booleano_dir = random.randint(0,1)\n",
        "\n",
        "    if booleano_dir == 0:\n",
        "        direccion = -1\n",
        "    else:\n",
        "        direccion = 1\n",
        "\n",
        "    return (pixel,umbral,direccion) # Devolvemos el clasificador debil generado"
      ]
    },
    {
      "cell_type": "code",
      "execution_count": 46,
      "metadata": {
        "id": "OZccF64ljbUr"
      },
      "outputs": [],
      "source": [
        "def aplicar_clasificador_debil(clasificador, imagen):\n",
        "    pixel = clasificador[0]\n",
        "    umbral = clasificador[1]\n",
        "    direccion = clasificador[2]\n",
        "\n",
        "    if direccion == 1:\n",
        "        if imagen[pixel] >= umbral:\n",
        "            res = True\n",
        "        else:\n",
        "            res = False\n",
        "    else:\n",
        "        \n",
        "        if imagen[pixel] < umbral:\n",
        "            \n",
        "            res = True\n",
        "        else:\n",
        "            res = False\n",
        "\n",
        "    if res:\n",
        "        res=1\n",
        "    else:\n",
        "        res=-1\n",
        "    return res"
      ]
    },
    {
      "cell_type": "code",
      "execution_count": 47,
      "metadata": {
        "id": "M50DGeNhjgDk"
      },
      "outputs": [],
      "source": [
        "def obtener_error(clasificador, X, Y, D):\n",
        "    error = 0.0\n",
        "\n",
        "    for i in range(len(X)):\n",
        "        if aplicar_clasificador_debil(clasificador,X[i]) == 1:\n",
        "            if Y[i] != 1:\n",
        "                error = error + D[i]\n",
        "        else:\n",
        "            if Y[i] == 1:\n",
        "                error = error + D[i]\n",
        "\n",
        "    return error"
      ]
    },
    {
      "cell_type": "markdown",
      "metadata": {
        "id": "cotcuFUsjtve"
      },
      "source": [
        "Funcion de entrenamiento para un clasificador fuerte:"
      ]
    },
    {
      "cell_type": "code",
      "execution_count": 48,
      "metadata": {
        "id": "paE5m0hhjwyX"
      },
      "outputs": [],
      "source": [
        "def entrenar(X, Y, T, A):\n",
        "    clasificadores_debiles = []\n",
        "    alfas = []\n",
        "    D = np.full(len(X), 1/len(X))\n",
        "    tam_img = 28*28\n",
        "\n",
        "    for t in range(T):\n",
        "\n",
        "        min_cd=((),2)\n",
        "\n",
        "        for k in range(A):\n",
        "\n",
        "            cd = generar_clasificador_debil(tam_img)\n",
        "            error = obtener_error(cd,X,Y,D)\n",
        "\n",
        "            if error < min_cd[1] or min_cd[1] == 2:\n",
        "                min_cd=(cd,error)\n",
        "\n",
        "        clasificadores_debiles.append(min_cd[0])\n",
        "\n",
        "        if min_cd[1]<=0:\n",
        "            alfa=1/2\n",
        "        else:\n",
        "            alfa = (1/2) * math.log( (1-min_cd[1])/min_cd[1] ,2)\n",
        "\n",
        "\n",
        "        alfas.append(alfa)\n",
        "\n",
        "        Z=np.sum(D)\n",
        "        Dtemp=np.copy(D)\n",
        "\n",
        "        for x in range(len(X)):\n",
        "            cd_d = aplicar_clasificador_debil(min_cd[0],X[x])\n",
        "            Dtemp[x]=D[x]*np.exp(-alfa*Y[x]*cd_d)\n",
        "\n",
        "        D = Dtemp/Z\n",
        "            \n",
        "    return (clasificadores_debiles, alfas)"
      ]
    },
    {
      "cell_type": "markdown",
      "metadata": {
        "id": "HwUU_4bGCnFP"
      },
      "source": [
        "Funcion para aplicar un clasificador fuerte a un conjunto de imagenes:"
      ]
    },
    {
      "cell_type": "code",
      "execution_count": 49,
      "metadata": {
        "id": "RfewgGG7vztJ"
      },
      "outputs": [],
      "source": [
        "def aplicarCF(H,X):\n",
        "    res=np.full(len(X),0.0)\n",
        "\n",
        "    for x in range(len(X)):\n",
        "        h=0.0\n",
        "        for i in range(len(H[0])):\n",
        "            cd_res=aplicar_clasificador_debil(H[0][i],X[x])\n",
        "            h += H[1][i]*cd_res\n",
        "        res[x]=h\n",
        "\n",
        "    res = np.sign(res)\n",
        "    res = res.astype(int)\n",
        "    return res"
      ]
    },
    {
      "cell_type": "markdown",
      "metadata": {
        "id": "sHyBl9IXOSQL"
      },
      "source": [
        "Análisis y resultados de las pruebas realizadas "
      ]
    },
    {
      "cell_type": "markdown",
      "metadata": {
        "id": "m2-db4eLCnFR"
      },
      "source": [
        "Las siguientes 2 funciones se utilizan para obtener tanto el numero de aciertos como el porcentaje de aciertos, la parte comentada puede ser util para depurar y ver los resultados exactos."
      ]
    },
    {
      "cell_type": "code",
      "execution_count": 50,
      "metadata": {
        "id": "YTwITRpMvztK"
      },
      "outputs": [],
      "source": [
        "def comparar(res,Y):\n",
        "    aciertos=0\n",
        "    for y in range(len(Y)):\n",
        "        if res[y]==Y[y]:\n",
        "            aciertos+=1\n",
        "\n",
        "    return round(aciertos/len(Y)*100,2)"
      ]
    },
    {
      "cell_type": "code",
      "execution_count": 51,
      "metadata": {
        "id": "8jhC6qIRvztM"
      },
      "outputs": [],
      "source": [
        "def resultados(cf_img,Y,tam_muestra):\n",
        "    #print('lenY:',len(Y))\n",
        "    aciertos = 0\n",
        "    aciertosC = np.full(10,0)\n",
        "    fallos = 0\n",
        "    fallosC = np.full(10,0)\n",
        "    countC= np.full(10,0)\n",
        "\n",
        "    for i in range(tam_muestra):\n",
        "        for j in range(10):\n",
        "            #Yclase = clase(Y,j)\n",
        "\n",
        "            if cf_img[i][j] == Y[j][i]:\n",
        "                aciertos+=1\n",
        "                aciertosC[j]+=1\n",
        "            else:\n",
        "                fallos+=1\n",
        "                fallosC[j]+=1\n",
        "\n",
        "            if Y[j][i]==1:\n",
        "                countC[j]+=1\n",
        "            # if cf_img[i][j] == 1 and Y[i]==j:\n",
        "            #     aciertos+=1\n",
        "            #     aciertosC[j]+=1\n",
        "            # elif Y[i]!=j and cf_img[i][j] == 1:\n",
        "            #     fallos+=1\n",
        "            #     fallosC[j]+=1\n",
        "    print('Aciertos Total:',aciertos)\n",
        "    print('Fallos Total:',fallos)\n",
        "\n",
        "    for j in range(10):\n",
        "        #count = sum(map(lambda x : x==j,Y[j]))\n",
        "        print('Clase:',j,' Aciertos:',aciertosC[j],' Fallos:',fallosC[j],' img(',j,'):',countC[j],' Porcentaje de aciertos:',round(aciertosC[j]/tam_muestra*100,2),'%','Porcentaje de fallos:',round(fallosC[j]/tam_muestra*100,2))\n",
        "    print('Imagenes = ',tam_muestra,' | A = ',A,' | T = ',T,' | Porcentaje de aciertos(Total) = ',round(aciertos/(tam_muestra*10)*100,2),'%','Porcentaje de fallos(Total) = ',round(fallos/(tam_muestra*10)*100,2))"
      ]
    },
    {
      "cell_type": "markdown",
      "metadata": {
        "id": "6F-m3PRNCnFT"
      },
      "source": [
        "Para dividir el conjunto de entrenamiento y test, lo que se ha hecho es utilizar las primeras N imagenes del vector X para el entrenamiento, luego para realizar las pruebas se utiliza el rango N*(p-1)+ hasta N*p, donde p es el numero de la prueba actual, en el codigo siguiente se puede ver como se utiliza:"
      ]
    },
    {
      "cell_type": "markdown",
      "metadata": {
        "id": "ijYIT-T0CnFT"
      },
      "source": [
        "Para utilizar el conjunto de prueba tenemos la siguiente funcion:\n"
      ]
    },
    {
      "cell_type": "code",
      "execution_count": 52,
      "metadata": {
        "id": "MPfIMsoSCnFU"
      },
      "outputs": [],
      "source": [
        "def pruebas(Hlista,Y,tam_muestra):\n",
        "    tam_prueba = 6000\n",
        "    muestra_desde = tam_muestra\n",
        "    muestra_hasta = tam_muestra + tam_prueba\n",
        "    Yclases = []\n",
        "    cf_img = np.full((tam_prueba,10),[0])\n",
        "    Yr = Y[muestra_desde:muestra_hasta]\n",
        "    \n",
        "    print('\\nResultados de TEST para: |',muestra_desde,' - ',muestra_hasta,'|:')\n",
        "\n",
        "    for c in range(10):\n",
        "        Yclase = clase(Yr,c)\n",
        "        Yclases.append(Yclase)\n",
        "        Xtest = X[muestra_desde:muestra_hasta]\n",
        "        Ytest = Yclase\n",
        "        print('len Ytest:',len(Ytest))\n",
        "        resTest = aplicarCF(Hlista[c],Xtest)\n",
        "        porcentajeTest = comparar(resTest,Ytest)\n",
        "\n",
        "        for i in range(tam_muestra):\n",
        "            cf_img[i][c] = resTest[i]\n",
        "            #print('c=',c,'resTest[i]=',resTest[i],' cf_img[i][c]=',cf_img[i][c],' Y[i]=',Y[i],' Ytest[i]=',Ytest[i])\n",
        "\n",
        "        print('clase: ',c,' resultados TEST[',muestra_desde,'-',muestra_hasta,']: ',porcentajeTest)\n",
        "    \n",
        "\n",
        "    #print('desde:',muestra_desde,'hasta:',muestra_hasta)\n",
        "    resultados(cf_img,Yclases,tam_prueba)"
      ]
    },
    {
      "cell_type": "markdown",
      "metadata": {
        "id": "6Ec7pArUCnFU"
      },
      "source": [
        "A continuacion se encuentra el codigo principal, donde declaramos nuestros parametros T,A, y el tam_muestra (cantidad de imagenes a utilizar para entrenar y por prueba), ademas en esta parte del codigo llamamos al entrenamiento para cada clase(0-9), y guardamos los clasificadores fuertes(H) en una lista (Hlista)"
      ]
    },
    {
      "cell_type": "code",
      "execution_count": 53,
      "metadata": {
        "colab": {
          "base_uri": "https://localhost:8080/"
        },
        "id": "e5eAUu_rOaR1",
        "outputId": "fadf96c0-0b0e-4970-f14b-e4d701bc3394"
      },
      "outputs": [
        {
          "output_type": "stream",
          "name": "stdout",
          "text": [
            "Entrenado\n",
            "clase:  0  (T: 50  A: 200 ) resultados train[ 3000 ]:  98.6 %\n",
            "Entrenado\n",
            "clase:  1  (T: 50  A: 200 ) resultados train[ 3000 ]:  98.2 %\n",
            "Entrenado\n",
            "clase:  2  (T: 50  A: 200 ) resultados train[ 3000 ]:  96.03 %\n",
            "Entrenado\n",
            "clase:  3  (T: 50  A: 200 ) resultados train[ 3000 ]:  95.47 %\n",
            "Entrenado\n",
            "clase:  4  (T: 50  A: 200 ) resultados train[ 3000 ]:  95.57 %\n",
            "Entrenado\n",
            "clase:  5  (T: 50  A: 200 ) resultados train[ 3000 ]:  94.57 %\n",
            "Entrenado\n",
            "clase:  6  (T: 50  A: 200 ) resultados train[ 3000 ]:  98.1 %\n",
            "Entrenado\n",
            "clase:  7  (T: 50  A: 200 ) resultados train[ 3000 ]:  97.07 %\n",
            "Entrenado\n",
            "clase:  8  (T: 50  A: 200 ) resultados train[ 3000 ]:  95.13 %\n",
            "Entrenado\n",
            "clase:  9  (T: 50  A: 200 ) resultados train[ 3000 ]:  94.4 %\n",
            "\n",
            "Resultados de ENTRENAMIENTO:\n",
            "Aciertos Total: 28894\n",
            "Fallos Total: 1106\n",
            "Clase: 0  Aciertos: 2958  Fallos: 42  img( 0 ): 285  Porcentaje de aciertos: 98.6 % Porcentaje de fallos: 1.4\n",
            "Clase: 1  Aciertos: 2946  Fallos: 54  img( 1 ): 339  Porcentaje de aciertos: 98.2 % Porcentaje de fallos: 1.8\n",
            "Clase: 2  Aciertos: 2881  Fallos: 119  img( 2 ): 299  Porcentaje de aciertos: 96.03 % Porcentaje de fallos: 3.97\n",
            "Clase: 3  Aciertos: 2864  Fallos: 136  img( 3 ): 295  Porcentaje de aciertos: 95.47 % Porcentaje de fallos: 4.53\n",
            "Clase: 4  Aciertos: 2867  Fallos: 133  img( 4 ): 325  Porcentaje de aciertos: 95.57 % Porcentaje de fallos: 4.43\n",
            "Clase: 5  Aciertos: 2837  Fallos: 163  img( 5 ): 274  Porcentaje de aciertos: 94.57 % Porcentaje de fallos: 5.43\n",
            "Clase: 6  Aciertos: 2943  Fallos: 57  img( 6 ): 306  Porcentaje de aciertos: 98.1 % Porcentaje de fallos: 1.9\n",
            "Clase: 7  Aciertos: 2912  Fallos: 88  img( 7 ): 329  Porcentaje de aciertos: 97.07 % Porcentaje de fallos: 2.93\n",
            "Clase: 8  Aciertos: 2854  Fallos: 146  img( 8 ): 261  Porcentaje de aciertos: 95.13 % Porcentaje de fallos: 4.87\n",
            "Clase: 9  Aciertos: 2832  Fallos: 168  img( 9 ): 287  Porcentaje de aciertos: 94.4 % Porcentaje de fallos: 5.6\n",
            "Imagenes =  3000  | A =  200  | T =  50  | Porcentaje de aciertos(Total) =  96.31 % Porcentaje de fallos(Total) =  3.69\n",
            "\n",
            "Resultados de TEST para: | 3000  -  9000 |:\n",
            "len Ytest: 6000\n",
            "clase:  0  resultados TEST[ 3000 - 9000 ]:  97.45\n",
            "len Ytest: 6000\n",
            "clase:  1  resultados TEST[ 3000 - 9000 ]:  97.3\n",
            "len Ytest: 6000\n",
            "clase:  2  resultados TEST[ 3000 - 9000 ]:  94.92\n",
            "len Ytest: 6000\n",
            "clase:  3  resultados TEST[ 3000 - 9000 ]:  94.27\n",
            "len Ytest: 6000\n",
            "clase:  4  resultados TEST[ 3000 - 9000 ]:  94.33\n",
            "len Ytest: 6000\n",
            "clase:  5  resultados TEST[ 3000 - 9000 ]:  93.97\n",
            "len Ytest: 6000\n",
            "clase:  6  resultados TEST[ 3000 - 9000 ]:  97.28\n",
            "len Ytest: 6000\n",
            "clase:  7  resultados TEST[ 3000 - 9000 ]:  95.9\n",
            "len Ytest: 6000\n",
            "clase:  8  resultados TEST[ 3000 - 9000 ]:  93.75\n",
            "len Ytest: 6000\n",
            "clase:  9  resultados TEST[ 3000 - 9000 ]:  93.52\n",
            "Aciertos Total: 28613\n",
            "Fallos Total: 31387\n",
            "Clase: 0  Aciertos: 2928  Fallos: 3072  img( 0 ): 606  Porcentaje de aciertos: 48.8 % Porcentaje de fallos: 51.2\n",
            "Clase: 1  Aciertos: 2926  Fallos: 3074  img( 1 ): 684  Porcentaje de aciertos: 48.77 % Porcentaje de fallos: 51.23\n",
            "Clase: 2  Aciertos: 2828  Fallos: 3172  img( 2 ): 590  Porcentaje de aciertos: 47.13 % Porcentaje de fallos: 52.87\n",
            "Clase: 3  Aciertos: 2851  Fallos: 3149  img( 3 ): 627  Porcentaje de aciertos: 47.52 % Porcentaje de fallos: 52.48\n",
            "Clase: 4  Aciertos: 2832  Fallos: 3168  img( 4 ): 574  Porcentaje de aciertos: 47.2 % Porcentaje de fallos: 52.8\n",
            "Clase: 5  Aciertos: 2832  Fallos: 3168  img( 5 ): 500  Porcentaje de aciertos: 47.2 % Porcentaje de fallos: 52.8\n",
            "Clase: 6  Aciertos: 2916  Fallos: 3084  img( 6 ): 602  Porcentaje de aciertos: 48.6 % Porcentaje de fallos: 51.4\n",
            "Clase: 7  Aciertos: 2882  Fallos: 3118  img( 7 ): 632  Porcentaje de aciertos: 48.03 % Porcentaje de fallos: 51.97\n",
            "Clase: 8  Aciertos: 2810  Fallos: 3190  img( 8 ): 585  Porcentaje de aciertos: 46.83 % Porcentaje de fallos: 53.17\n",
            "Clase: 9  Aciertos: 2808  Fallos: 3192  img( 9 ): 600  Porcentaje de aciertos: 46.8 % Porcentaje de fallos: 53.2\n",
            "Imagenes =  6000  | A =  200  | T =  50  | Porcentaje de aciertos(Total) =  47.69 % Porcentaje de fallos(Total) =  52.31\n"
          ]
        }
      ],
      "source": [
        "T = 50 #num cd a usar\n",
        "A = 200 #num pruebas aleatorias para cada cd\n",
        "tam_muestra=3000\n",
        "cf_img = np.full((tam_muestra,10),[0])\n",
        "Hlista = []\n",
        "Yclases = []\n",
        "for c in range(10):\n",
        "    Yclase = clase(Y,c)\n",
        "    Yclases.append(Yclase)\n",
        "    Xtrain=X[:tam_muestra]\n",
        "    Ytrain=Yclase[:tam_muestra]\n",
        "\n",
        "    H = entrenar(Xtrain, Ytrain, T, A)\n",
        "    Hlista.append(H)\n",
        "    print('Entrenado')\n",
        "    res = aplicarCF(H,Xtrain)\n",
        "\n",
        "    for i in range(tam_muestra):\n",
        "        cf_img[i][c] = res[i]\n",
        "        #print('c=',c,'res[i]=',res[i],' cf_img[i][c]=',cf_img[i][c],' Y[i]=',Y[i],' Ytrain[i]=',Ytrain[i])\n",
        "\n",
        "    porcentajeEntrenamiento = comparar(res,Ytrain)\n",
        "\n",
        "    print('clase: ',c,' (T:',T,' A:',A,') resultados train[',tam_muestra,']: ',porcentajeEntrenamiento,'%')\n",
        "#print('len:',len(Hlista),' Hlista:',Hlista)\n",
        "\n",
        "print('\\nResultados de ENTRENAMIENTO:')\n",
        "resultados(cf_img,Yclases,tam_muestra)\n",
        "\n",
        "pruebas(Hlista,Y,tam_muestra)\n",
        "\n"
      ]
    },
    {
      "cell_type": "markdown",
      "metadata": {
        "id": "Xz_g3ECYvztL"
      },
      "source": [
        "Y a continuacion obtendremos graficas comparativas a partir de resultados obtenidos en ejecuciones anteriores:"
      ]
    },
    {
      "cell_type": "code",
      "execution_count": 54,
      "metadata": {
        "id": "l6AxWUIACnFW"
      },
      "outputs": [],
      "source": [
        "# Para A = 10\n",
        "# T = [0, 50, 100, 150, 200, 250]      # Numero de clasificadores \n",
        "# resultados = [0, 20, 35, 56, 68] # Resultados obtenidos de clasificacion\n",
        "\n",
        "# plt.title(\"Porcentajes con valores de T (A=10)\")\n",
        "# plt.plot(T, resultados)\n",
        "# plt.show()\n",
        "\n",
        "# Para A = 100\n",
        "# T = [0, 50, 100, 150, 200, 250]      # Numero de clasificadores \n",
        "# resultados = [0, 20, 35, 56, 68] # Resultados obtenidos de clasificacion\n",
        "\n",
        "# plt.title(\"Porcentajes con valores de T (A=100)\")\n",
        "# plt.plot(T, resultados)\n",
        "# plt.show()\n",
        "\n",
        "# Para A = 200\n",
        "# T = [0, 50, 100, 150, 200, 250]      # Numero de clasificadores \n",
        "# resultados = [0, 20, 35, 56, 68] # Resultados obtenidos de clasificacion\n",
        "\n",
        "# plt.title(\"Porcentajes con valores de T (A=200)\")\n",
        "# plt.plot(T, resultados)\n",
        "# plt.show()\n",
        "\n",
        "# Para A = 500\n",
        "# T = [0, 50, 100, 150, 200, 250]      # Numero de clasificadores \n",
        "# resultados = [0, 20, 35, 56, 68] # Resultados obtenidos de clasificacion\n",
        "\n",
        "# plt.title(\"Porcentajes con valores de T (A=500)\")\n",
        "# plt.plot(T, resultados)\n",
        "# plt.show()\n",
        "\n",
        "# Para A = 1000\n",
        "# T = [0, 50, 100, 150, 200, 250]      # Numero de clasificadores \n",
        "# resultados = [0, 20, 35, 56, 68] # Resultados obtenidos de clasificacion\n",
        "\n",
        "# plt.title(\"Porcentajes con valores de T (A=1000)\")\n",
        "# plt.plot(T, resultados)\n",
        "# plt.show()\n",
        "\n"
      ]
    }
  ],
  "metadata": {
    "colab": {
      "collapsed_sections": [],
      "name": "Curso2021P2_Colab.ipynb",
      "provenance": []
    },
    "kernelspec": {
      "display_name": "Python 3",
      "name": "python3"
    },
    "language_info": {
      "codemirror_mode": {
        "name": "ipython",
        "version": 3
      },
      "file_extension": ".py",
      "mimetype": "text/x-python",
      "name": "python",
      "nbconvert_exporter": "python",
      "pygments_lexer": "ipython3",
      "version": "3.9.9"
    }
  },
  "nbformat": 4,
  "nbformat_minor": 0
}